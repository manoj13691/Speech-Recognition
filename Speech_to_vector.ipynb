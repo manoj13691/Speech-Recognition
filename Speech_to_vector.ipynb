{
 "cells": [
  {
   "cell_type": "code",
   "execution_count": 1,
   "metadata": {},
   "outputs": [
    {
     "name": "stdout",
     "output_type": "stream",
     "text": [
      "[  1.88733267e-07  -3.04503061e-07   4.60272560e-07 ...,  -6.79345476e-06\n",
      "   1.91639356e-06  -9.87703743e-07]\n",
      "22050\n"
     ]
    }
   ],
   "source": [
    "import librosa\n",
    "x, sr = librosa.load('audio_files/gan_or_vae_r2.wav', duration=5.0)\n",
    "\n",
    "print x\n",
    "print sr"
   ]
  },
  {
   "cell_type": "code",
   "execution_count": 2,
   "metadata": {
    "collapsed": true
   },
   "outputs": [],
   "source": [
    "import IPython.display as ipd"
   ]
  },
  {
   "cell_type": "code",
   "execution_count": 12,
   "metadata": {},
   "outputs": [
    {
     "data": {
      "text/html": [
       "\n",
       "                <audio controls=\"controls\" >\n",
       "                    <source src=\"data:audio/wav;base64,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\" type=\"audio/wav\" />\n",
       "                    Your browser does not support the audio element.\n",
       "                </audio>\n",
       "              "
      ],
      "text/plain": [
       "<IPython.lib.display.Audio object>"
      ]
     },
     "execution_count": 12,
     "metadata": {},
     "output_type": "execute_result"
    }
   ],
   "source": [
    "ipd.Audio(x[1:3680], rate=sr)"
   ]
  },
  {
   "cell_type": "code",
   "execution_count": 24,
   "metadata": {
    "collapsed": true
   },
   "outputs": [],
   "source": [
    "mfcc = librosa.feature.mfcc(x,sr)"
   ]
  },
  {
   "cell_type": "code",
   "execution_count": 25,
   "metadata": {},
   "outputs": [
    {
     "data": {
      "text/plain": [
       "(20, 216)"
      ]
     },
     "execution_count": 25,
     "metadata": {},
     "output_type": "execute_result"
    }
   ],
   "source": [
    "mfcc.shape"
   ]
  },
  {
   "cell_type": "code",
   "execution_count": 27,
   "metadata": {
    "collapsed": true
   },
   "outputs": [],
   "source": [
    "import numpy as np\n",
    "mfcc=np.pad(mfcc,((0,0),(0,len(mfcc[0]))), mode='constant', constant_values=0)"
   ]
  },
  {
   "cell_type": "code",
   "execution_count": 29,
   "metadata": {},
   "outputs": [
    {
     "data": {
      "text/plain": [
       "(20, 432)"
      ]
     },
     "execution_count": 29,
     "metadata": {},
     "output_type": "execute_result"
    }
   ],
   "source": [
    "mfcc.shape"
   ]
  },
  {
   "cell_type": "code",
   "execution_count": 4,
   "metadata": {},
   "outputs": [
    {
     "data": {
      "text/plain": [
       "110250"
      ]
     },
     "execution_count": 4,
     "metadata": {},
     "output_type": "execute_result"
    }
   ],
   "source": [
    "len(x)"
   ]
  },
  {
   "cell_type": "code",
   "execution_count": 10,
   "metadata": {},
   "outputs": [
    {
     "data": {
      "text/plain": [
       "367.5"
      ]
     },
     "execution_count": 10,
     "metadata": {},
     "output_type": "execute_result"
    }
   ],
   "source": [
    "110250.0/(5*60.0)"
   ]
  },
  {
   "cell_type": "code",
   "execution_count": null,
   "metadata": {
    "collapsed": true
   },
   "outputs": [],
   "source": []
  }
 ],
 "metadata": {
  "kernelspec": {
   "display_name": "Python 2",
   "language": "python",
   "name": "python2"
  },
  "language_info": {
   "codemirror_mode": {
    "name": "ipython",
    "version": 2
   },
   "file_extension": ".py",
   "mimetype": "text/x-python",
   "name": "python",
   "nbconvert_exporter": "python",
   "pygments_lexer": "ipython2",
   "version": "2.7.13"
  }
 },
 "nbformat": 4,
 "nbformat_minor": 2
}
