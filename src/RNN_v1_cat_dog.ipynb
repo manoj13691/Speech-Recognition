{
 "cells": [
  {
   "cell_type": "code",
   "execution_count": 12,
   "metadata": {},
   "outputs": [],
   "source": [
    "import numpy as np\n",
    "from keras.models import Sequential\n",
    "from keras.layers.core import Dense, Activation, Dropout\n",
    "from keras.layers.recurrent import LSTM\n",
    "from keras.layers.wrappers import TimeDistributed\n",
    "from keras.layers import Dense, Input\n",
    "from keras.layers import GlobalMaxPooling1D, Bidirectional\n",
    "from keras.models import Model, load_model\n",
    "from keras.callbacks import EarlyStopping, ModelCheckpoint\n",
    "import pickle\n",
    "from sklearn import metrics"
   ]
  },
  {
   "cell_type": "code",
   "execution_count": 9,
   "metadata": {},
   "outputs": [
    {
     "name": "stdout",
     "output_type": "stream",
     "text": [
      "(1733, 20, 50)\n",
      "(1733, 2)\n",
      "(1746, 20, 50)\n",
      "(1746, 2)\n",
      "(3479, 20, 50)\n",
      "(3479, 2)\n"
     ]
    }
   ],
   "source": [
    "bird_audio_with_label = pickle.load( open( \"cat.pkl\", \"rb\" ) )\n",
    "X_bird = bird_audio_with_label[\"cat\"]\n",
    "Y_bird = np.array([[1,0]] * X_bird.shape[0])\n",
    "print X_bird.shape\n",
    "print Y_bird.shape\n",
    "\n",
    "bed_audio_with_label = pickle.load( open( \"dog.pkl\", \"rb\" ) )\n",
    "X_bed = bed_audio_with_label[\"dog\"]\n",
    "Y_bed = np.array([[0,1]] * X_bed.shape[0])\n",
    "print X_bed.shape\n",
    "print Y_bed.shape\n",
    "\n",
    "X = np.vstack((X_bird, X_bed))\n",
    "Y = np.vstack((Y_bird, Y_bed))\n",
    "print X.shape\n",
    "print Y.shape"
   ]
  },
  {
   "cell_type": "code",
   "execution_count": 61,
   "metadata": {},
   "outputs": [
    {
     "name": "stdout",
     "output_type": "stream",
     "text": [
      "_________________________________________________________________\n",
      "Layer (type)                 Output Shape              Param #   \n",
      "=================================================================\n",
      "input_12 (InputLayer)        (None, 20, 50)            0         \n",
      "_________________________________________________________________\n",
      "lstm_27 (LSTM)               (None, 20, 50)            20200     \n",
      "_________________________________________________________________\n",
      "lstm_28 (LSTM)               (None, 20, 40)            14560     \n",
      "_________________________________________________________________\n",
      "global_max_pooling1d_12 (Glo (None, 40)                0         \n",
      "_________________________________________________________________\n",
      "dropout_12 (Dropout)         (None, 40)                0         \n",
      "_________________________________________________________________\n",
      "dense_12 (Dense)             (None, 2)                 82        \n",
      "=================================================================\n",
      "Total params: 34,842\n",
      "Trainable params: 34,842\n",
      "Non-trainable params: 0\n",
      "_________________________________________________________________\n"
     ]
    }
   ],
   "source": [
    "inp = Input(shape=(20,50 ))\n",
    "x = (LSTM(50, return_sequences=True))(inp)\n",
    "x = (LSTM(40, return_sequences=True))(x)\n",
    "x = GlobalMaxPooling1D()(x)\n",
    "x = Dropout(0.4)(x)\n",
    "\n",
    "#x = Dense(20, activation = \"sigmoid\")(x)\n",
    "#x = Dense(5, activation = \"sigmoid\")(x)\n",
    "\n",
    "x = Dense(2, activation=\"softmax\")(x)\n",
    "model = Model(inputs=inp, outputs=x)\n",
    "model.compile(loss='binary_crossentropy',\n",
    "              optimizer='adam',\n",
    "              metrics=['accuracy'])\n",
    "\n",
    "model.summary()"
   ]
  },
  {
   "cell_type": "code",
   "execution_count": 62,
   "metadata": {},
   "outputs": [
    {
     "name": "stdout",
     "output_type": "stream",
     "text": [
      "Train on 3131 samples, validate on 348 samples\n",
      "Epoch 1/20\n",
      "3000/3131 [===========================>..] - ETA: 0s - loss: 0.6962 - acc: 0.5333Epoch 00000: val_loss improved from inf to 0.83524, saving model to RNN_val_loss_cat_dog.hdf5\n",
      "3131/3131 [==============================] - 6s - loss: 0.6956 - acc: 0.5353 - val_loss: 0.8352 - val_acc: 0.0230\n",
      "Epoch 2/20\n",
      "3000/3131 [===========================>..] - ETA: 0s - loss: 0.6742 - acc: 0.5733Epoch 00001: val_loss improved from 0.83524 to 0.76196, saving model to RNN_val_loss_cat_dog.hdf5\n",
      "3131/3131 [==============================] - 2s - loss: 0.6732 - acc: 0.5771 - val_loss: 0.7620 - val_acc: 0.2471\n",
      "Epoch 3/20\n",
      "3000/3131 [===========================>..] - ETA: 0s - loss: 0.6594 - acc: 0.6127Epoch 00002: val_loss improved from 0.76196 to 0.71470, saving model to RNN_val_loss_cat_dog.hdf5\n",
      "3131/3131 [==============================] - 2s - loss: 0.6589 - acc: 0.6129 - val_loss: 0.7147 - val_acc: 0.4598\n",
      "Epoch 4/20\n",
      "3000/3131 [===========================>..] - ETA: 0s - loss: 0.6299 - acc: 0.6633Epoch 00003: val_loss did not improve\n",
      "3131/3131 [==============================] - 2s - loss: 0.6306 - acc: 0.6627 - val_loss: 0.8075 - val_acc: 0.3908\n",
      "Epoch 5/20\n",
      "3000/3131 [===========================>..] - ETA: 0s - loss: 0.5935 - acc: 0.6917Epoch 00004: val_loss did not improve\n",
      "3131/3131 [==============================] - 2s - loss: 0.5920 - acc: 0.6924 - val_loss: 0.8368 - val_acc: 0.5029\n",
      "Epoch 6/20\n",
      "3000/3131 [===========================>..] - ETA: 0s - loss: 0.5401 - acc: 0.7250Epoch 00005: val_loss improved from 0.71470 to 0.70268, saving model to RNN_val_loss_cat_dog.hdf5\n",
      "3131/3131 [==============================] - 2s - loss: 0.5387 - acc: 0.7263 - val_loss: 0.7027 - val_acc: 0.6667\n",
      "Epoch 7/20\n",
      "3000/3131 [===========================>..] - ETA: 0s - loss: 0.5145 - acc: 0.7573Epoch 00006: val_loss improved from 0.70268 to 0.48732, saving model to RNN_val_loss_cat_dog.hdf5\n",
      "3131/3131 [==============================] - 2s - loss: 0.5152 - acc: 0.7573 - val_loss: 0.4873 - val_acc: 0.7989\n",
      "Epoch 8/20\n",
      "3000/3131 [===========================>..] - ETA: 0s - loss: 0.4622 - acc: 0.7903Epoch 00007: val_loss did not improve\n",
      "3131/3131 [==============================] - 2s - loss: 0.4648 - acc: 0.7911 - val_loss: 0.7254 - val_acc: 0.6638\n",
      "Epoch 9/20\n",
      "3000/3131 [===========================>..] - ETA: 0s - loss: 0.4419 - acc: 0.8147Epoch 00008: val_loss did not improve\n",
      "3131/3131 [==============================] - 2s - loss: 0.4423 - acc: 0.8128 - val_loss: 0.5209 - val_acc: 0.7471\n",
      "Epoch 10/20\n",
      "3000/3131 [===========================>..] - ETA: 0s - loss: 0.4248 - acc: 0.8170Epoch 00009: val_loss did not improve\n",
      "3131/3131 [==============================] - 2s - loss: 0.4282 - acc: 0.8157 - val_loss: 0.7710 - val_acc: 0.5920\n",
      "Epoch 11/20\n",
      "3000/3131 [===========================>..] - ETA: 0s - loss: 0.3932 - acc: 0.8400Epoch 00010: val_loss did not improve\n",
      "3131/3131 [==============================] - 2s - loss: 0.3962 - acc: 0.8368 - val_loss: 0.4982 - val_acc: 0.7787\n",
      "Epoch 12/20\n",
      "3000/3131 [===========================>..] - ETA: 0s - loss: 0.3706 - acc: 0.8470Epoch 00011: val_loss did not improve\n",
      "3131/3131 [==============================] - 2s - loss: 0.3756 - acc: 0.8438 - val_loss: 0.5651 - val_acc: 0.7270\n",
      "Epoch 13/20\n",
      "3000/3131 [===========================>..] - ETA: 0s - loss: 0.3774 - acc: 0.8443Epoch 00012: val_loss did not improve\n",
      "3131/3131 [==============================] - 2s - loss: 0.3763 - acc: 0.8451 - val_loss: 0.9084 - val_acc: 0.5431\n",
      "Epoch 14/20\n",
      "3000/3131 [===========================>..] - ETA: 0s - loss: 0.3844 - acc: 0.8393Epoch 00013: val_loss did not improve\n",
      "3131/3131 [==============================] - 2s - loss: 0.3814 - acc: 0.8406 - val_loss: 0.5582 - val_acc: 0.7270\n",
      "Epoch 15/20\n",
      "3000/3131 [===========================>..] - ETA: 0s - loss: 0.2995 - acc: 0.8857Epoch 00014: val_loss did not improve\n",
      "3131/3131 [==============================] - 2s - loss: 0.3057 - acc: 0.8818 - val_loss: 0.7110 - val_acc: 0.6897\n",
      "Epoch 16/20\n",
      "3000/3131 [===========================>..] - ETA: 0s - loss: 0.3046 - acc: 0.8760Epoch 00015: val_loss did not improve\n",
      "3131/3131 [==============================] - 2s - loss: 0.3082 - acc: 0.8748 - val_loss: 0.6355 - val_acc: 0.6954\n",
      "Epoch 17/20\n",
      "3000/3131 [===========================>..] - ETA: 0s - loss: 0.2816 - acc: 0.8910- ETA: 0s - loss: 0.2855 - acc: 0Epoch 00016: val_loss did not improve\n",
      "3131/3131 [==============================] - 2s - loss: 0.2825 - acc: 0.8905 - val_loss: 0.5432 - val_acc: 0.7356\n",
      "Epoch 18/20\n",
      "3000/3131 [===========================>..] - ETA: 0s - loss: 0.2746 - acc: 0.8907Epoch 00017: val_loss did not improve\n",
      "3131/3131 [==============================] - 2s - loss: 0.2760 - acc: 0.8908 - val_loss: 0.5451 - val_acc: 0.7615\n",
      "Epoch 19/20\n",
      "3000/3131 [===========================>..] - ETA: 0s - loss: 0.2300 - acc: 0.911 - ETA: 0s - loss: 0.2330 - acc: 0.9083Epoch 00018: val_loss improved from 0.48732 to 0.40067, saving model to RNN_val_loss_cat_dog.hdf5\n",
      "3131/3131 [==============================] - 2s - loss: 0.2404 - acc: 0.9051 - val_loss: 0.4007 - val_acc: 0.8477\n",
      "Epoch 20/20\n",
      "3000/3131 [===========================>..] - ETA: 0s - loss: 0.2827 - acc: 0.8840Epoch 00019: val_loss did not improve\n",
      "3131/3131 [==============================] - 2s - loss: 0.2841 - acc: 0.8828 - val_loss: 0.4771 - val_acc: 0.8276\n"
     ]
    },
    {
     "data": {
      "text/plain": [
       "<keras.callbacks.History at 0x7fd844284fd0>"
      ]
     },
     "execution_count": 62,
     "metadata": {},
     "output_type": "execute_result"
    }
   ],
   "source": [
    "file_path=\"RNN_val_loss_cat_dog.hdf5\"\n",
    "checkpoint = ModelCheckpoint(file_path, monitor='val_loss', verbose=1, save_best_only=True, mode='min')\n",
    "early = EarlyStopping(monitor=\"val_loss\", mode=\"min\", patience=20)\n",
    "callbacks_list = [checkpoint, early] #early\n",
    "model.fit(X, Y, validation_split=0.1, callbacks=callbacks_list, epochs=20, batch_size= 150)"
   ]
  },
  {
   "cell_type": "code",
   "execution_count": 63,
   "metadata": {
    "collapsed": true
   },
   "outputs": [],
   "source": [
    "model = load_model(file_path)"
   ]
  },
  {
   "cell_type": "code",
   "execution_count": 64,
   "metadata": {
    "collapsed": true
   },
   "outputs": [],
   "source": [
    "a= model.predict(X)"
   ]
  },
  {
   "cell_type": "code",
   "execution_count": 65,
   "metadata": {},
   "outputs": [
    {
     "data": {
      "text/plain": [
       "array([[ 0.45884997,  0.54115009],\n",
       "       [ 0.98628438,  0.01371567],\n",
       "       [ 0.13852394,  0.86147612],\n",
       "       ..., \n",
       "       [ 0.02537534,  0.97462463],\n",
       "       [ 0.0184974 ,  0.98150259],\n",
       "       [ 0.91128635,  0.08871356]], dtype=float32)"
      ]
     },
     "execution_count": 65,
     "metadata": {},
     "output_type": "execute_result"
    }
   ],
   "source": [
    "a"
   ]
  },
  {
   "cell_type": "code",
   "execution_count": 66,
   "metadata": {},
   "outputs": [
    {
     "data": {
      "text/plain": [
       "0.28143203356117225"
      ]
     },
     "execution_count": 66,
     "metadata": {},
     "output_type": "execute_result"
    }
   ],
   "source": [
    "metrics.log_loss(Y,a)"
   ]
  },
  {
   "cell_type": "code",
   "execution_count": null,
   "metadata": {
    "collapsed": true
   },
   "outputs": [],
   "source": []
  }
 ],
 "metadata": {
  "kernelspec": {
   "display_name": "Python 2",
   "language": "python",
   "name": "python2"
  },
  "language_info": {
   "codemirror_mode": {
    "name": "ipython",
    "version": 2
   },
   "file_extension": ".py",
   "mimetype": "text/x-python",
   "name": "python",
   "nbconvert_exporter": "python",
   "pygments_lexer": "ipython2",
   "version": "2.7.13"
  }
 },
 "nbformat": 4,
 "nbformat_minor": 2
}
