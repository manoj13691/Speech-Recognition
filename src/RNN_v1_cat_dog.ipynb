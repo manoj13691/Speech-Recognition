{
 "cells": [
  {
   "cell_type": "code",
   "execution_count": 1,
   "metadata": {},
   "outputs": [
    {
     "name": "stderr",
     "output_type": "stream",
     "text": [
      "Using TensorFlow backend.\n"
     ]
    }
   ],
   "source": [
    "import numpy as np\n",
    "from keras.models import Sequential\n",
    "from keras.layers.core import Dense, Activation, Dropout\n",
    "from keras.layers.recurrent import LSTM\n",
    "from keras.layers.wrappers import TimeDistributed\n",
    "from keras.layers import Dense, Input\n",
    "from keras.layers import GlobalMaxPooling1D, Bidirectional\n",
    "from keras.models import Model, load_model\n",
    "from keras.callbacks import EarlyStopping, ModelCheckpoint\n",
    "import pickle"
   ]
  },
  {
   "cell_type": "code",
   "execution_count": 3,
   "metadata": {},
   "outputs": [
    {
     "name": "stdout",
     "output_type": "stream",
     "text": [
      "(1733, 20, 100)\n",
      "(1733, 2)\n",
      "(1746, 20, 100)\n",
      "(1746, 2)\n",
      "(3479, 20, 100)\n",
      "(3479, 2)\n"
     ]
    }
   ],
   "source": [
    "bird_audio_with_label = pickle.load( open( \"cat.pkl\", \"r0.8218b\" ) )\n",
    "X_bird = bird_audio_with_label[\"cat\"]\n",
    "Y_bird = np.array([[1,0]] * X_bird.shape[0])\n",
    "print X_bird.shape\n",
    "print Y_bird.shape\n",
    "\n",
    "bed_audio_with_label = pickle.load( open( \"dog.pkl\", \"rb\" ) )\n",
    "X_bed = bed_audio_with_label[\"dog\"]\n",
    "Y_bed = np.array([[0,1]] * X_bed.shape[0])\n",
    "print X_bed.shape\n",
    "print Y_bed.shape\n",
    "\n",
    "X = np.vstack((X_bird, X_bed))\n",
    "Y = np.vstack((Y_bird, Y_bed))\n",
    "print X.shape\n",
    "print Y.shape"
   ]
  },
  {
   "cell_type": "code",
   "execution_count": 32,
   "metadata": {},
   "outputs": [
    {
     "name": "stdout",
     "output_type": "stream",
     "text": [
      "_________________________________________________________________\n",
      "Layer (type)                 Output Shape              Param #   \n",
      "=================================================================\n",
      "input_5 (InputLayer)         (None, 20, 100)           0         \n",
      "_________________________________________________________________\n",
      "lstm_9 (LSTM)                (None, 20, 100)           80400     \n",
      "_________________________________________________________________\n",
      "lstm_10 (LSTM)               (None, 20, 100)           80400     \n",
      "_________________________________________________________________\n",
      "global_max_pooling1d_5 (Glob (None, 100)               0         \n",
      "_________________________________________________________________\n",
      "dropout_5 (Dropout)          (None, 100)               0         \n",
      "_________________________________________________________________\n",
      "dense_5 (Dense)              (None, 2)                 202       \n",
      "=================================================================\n",
      "Total params: 161,002\n",
      "Trainable params: 161,002\n",
      "Non-trainable params: 0\n",
      "_________________________________________________________________\n"
     ]
    }
   ],
   "source": [
    "inp = Input(shape=(20,100 ))\n",
    "x = (LSTM(100, return_sequences=True))(inp)\n",
    "x = (LSTM(100, return_sequences=True))(x)\n",
    "#x = (LSTM(100, return_sequences=True))(x)\n",
    "x = GlobalMaxPooling1D()(x)\n",
    "x = Dropout(0.4)(x)\n",
    "\n",
    "#x = Dense(20, activation = \"sigmoid\")(x)\n",
    "#x = Dense(5, activation = \"sigmoid\")(x)\n",
    "\n",
    "x = Dense(2, activation=\"softmax\")(x)\n",
    "model = Model(inputs=inp, outputs=x)\n",
    "model.compile(loss='binary_crossentropy',\n",
    "              optimizer='adam',\n",
    "              metrics=['accuracy'])\n",
    "\n",
    "model.summary()"
   ]
  },
  {
   "cell_type": "code",
   "execution_count": 33,
   "metadata": {},
   "outputs": [
    {
     "name": "stdout",
     "output_type": "stream",
     "text": [
      "Train on 3131 samples, validate on 348 samples\n",
      "Epoch 1/20\n",
      "3104/3131 [============================>.] - ETA: 0s - loss: 0.6704 - acc: 0.5892Epoch 00000: val_loss improved from inf to 0.98748, saving model to RNN_val_loss_cat_dog.hdf5\n",
      "3131/3131 [==============================] - 10s - loss: 0.6699 - acc: 0.5899 - val_loss: 0.9875 - val_acc: 0.2730\n",
      "Epoch 2/20\n",
      "3104/3131 [============================>.] - ETA: 0s - loss: 0.6054 - acc: 0.6698Epoch 00001: val_loss improved from 0.98748 to 0.62399, saving model to RNN_val_loss_cat_dog.hdf5\n",
      "3131/3131 [==============================] - 7s - loss: 0.6057 - acc: 0.6701 - val_loss: 0.6240 - val_acc: 0.6351\n",
      "Epoch 3/20\n",
      "3104/3131 [============================>.] - ETA: 0s - loss: 0.5564 - acc: 0.7307Epoch 00002: val_loss did not improve\n",
      "3131/3131 [==============================] - 7s - loss: 0.5570 - acc: 0.7308 - val_loss: 0.8347 - val_acc: 0.4425\n",
      "Epoch 4/20\n",
      "3104/3131 [============================>.] - ETA: 0s - loss: 0.4797 - acc: 0.7767Epoch 00003: val_loss improved from 0.62399 to 0.51312, saving model to RNN_val_loss_cat_dog.hdf5\n",
      "3131/3131 [==============================] - 9s - loss: 0.4791 - acc: 0.7774 - val_loss: 0.5131 - val_acc: 0.7328\n",
      "Epoch 5/20\n",
      "3104/3131 [============================>.] - ETA: 0s - loss: 0.4137 - acc: 0.8086Epoch 00004: val_loss did not improve\n",
      "3131/3131 [==============================] - 10s - loss: 0.4130 - acc: 0.8093 - val_loss: 0.6741 - val_acc: 0.6609\n",
      "Epoch 6/20\n",
      "3104/3131 [============================>.] - ETA: 0s - loss: 0.3962 - acc: 0.8254Epoch 00005: val_loss did not improve\n",
      "3131/3131 [==============================] - 11s - loss: 0.3967 - acc: 0.8250 - val_loss: 0.5622 - val_acc: 0.7155\n",
      "Epoch 7/20\n",
      "3104/3131 [============================>.] - ETA: 0s - loss: 0.3342 - acc: 0.8557Epoch 00006: val_loss did not improve\n",
      "3131/3131 [==============================] - 9s - loss: 0.3330 - acc: 0.8566 - val_loss: 0.5756 - val_acc: 0.7270\n",
      "Epoch 8/20\n",
      "3104/3131 [============================>.] - ETA: 0s - loss: 0.2891 - acc: 0.8808Epoch 00007: val_loss improved from 0.51312 to 0.41367, saving model to RNN_val_loss_cat_dog.hdf5\n",
      "3131/3131 [==============================] - 10s - loss: 0.2880 - acc: 0.8815 - val_loss: 0.4137 - val_acc: 0.8103\n",
      "Epoch 9/20\n",
      "3104/3131 [============================>.] - ETA: 0s - loss: 0.2617 - acc: 0.8863Epoch 00008: val_loss did not improve\n",
      "3131/3131 [==============================] - 9s - loss: 0.2620 - acc: 0.8863 - val_loss: 0.8105 - val_acc: 0.6379\n",
      "Epoch 10/20\n",
      "3104/3131 [============================>.] - ETA: 0s - loss: 0.2540 - acc: 0.9037Epoch 00009: val_loss did not improve\n",
      "3131/3131 [==============================] - 10s - loss: 0.2558 - acc: 0.9026 - val_loss: 0.6818 - val_acc: 0.7069\n",
      "Epoch 11/20\n",
      "3104/3131 [============================>.] - ETA: 0s - loss: 0.2336 - acc: 0.9030Epoch 00010: val_loss improved from 0.41367 to 0.39378, saving model to RNN_val_loss_cat_dog.hdf5\n",
      "3131/3131 [==============================] - 11s - loss: 0.2358 - acc: 0.9019 - val_loss: 0.3938 - val_acc: 0.8218\n",
      "Epoch 12/20\n",
      "3104/3131 [============================>.] - ETA: 0s - loss: 0.2238 - acc: 0.9091Epoch 00011: val_loss did not improve\n",
      "3131/3131 [==============================] - 11s - loss: 0.2238 - acc: 0.9090 - val_loss: 0.6363 - val_acc: 0.7414\n",
      "Epoch 13/20\n",
      "3104/3131 [============================>.] - ETA: 0s - loss: 0.1777 - acc: 0.9294Epoch 00012: val_loss did not improve\n",
      "3131/3131 [==============================] - 9s - loss: 0.1777 - acc: 0.9291 - val_loss: 1.1135 - val_acc: 0.6006\n",
      "Epoch 14/20\n",
      "3104/3131 [============================>.] - ETA: 0s - loss: 0.1784 - acc: 0.9278Epoch 00013: val_loss did not improve\n",
      "3131/3131 [==============================] - 7s - loss: 0.1784 - acc: 0.9278 - val_loss: 0.7590 - val_acc: 0.7069\n",
      "Epoch 15/20\n",
      "3104/3131 [============================>.] - ETA: 0s - loss: 0.1741 - acc: 0.9346Epoch 00014: val_loss did not improve\n",
      "3131/3131 [==============================] - 8s - loss: 0.1751 - acc: 0.9339 - val_loss: 0.9777 - val_acc: 0.6695\n",
      "Epoch 16/20\n",
      "3104/3131 [============================>.] - ETA: 0s - loss: 0.1483 - acc: 0.9430Epoch 00015: val_loss did not improve\n",
      "3131/3131 [==============================] - 7s - loss: 0.1486 - acc: 0.9425 - val_loss: 0.9840 - val_acc: 0.6839\n",
      "Epoch 17/20\n",
      "3104/3131 [============================>.] - ETA: 0s - loss: 0.1707 - acc: 0.9311Epoch 00016: val_loss did not improve\n",
      "3131/3131 [==============================] - 8s - loss: 0.1712 - acc: 0.9307 - val_loss: 0.7034 - val_acc: 0.7213\n",
      "Epoch 18/20\n",
      "3104/3131 [============================>.] - ETA: 0s - loss: 0.1321 - acc: 0.9472Epoch 00017: val_loss did not improve\n",
      "3131/3131 [==============================] - 7s - loss: 0.1332 - acc: 0.9473 - val_loss: 0.7443 - val_acc: 0.7529\n",
      "Epoch 19/20\n",
      "3104/3131 [============================>.] - ETA: 0s - loss: 0.0998 - acc: 0.9636Epoch 00018: val_loss did not improve\n",
      "3131/3131 [==============================] - 8s - loss: 0.1020 - acc: 0.9633 - val_loss: 0.9138 - val_acc: 0.7356\n",
      "Epoch 20/20\n",
      "3104/3131 [============================>.] - ETA: 0s - loss: 0.0936 - acc: 0.9655Epoch 00019: val_loss did not improve\n",
      "3131/3131 [==============================] - 10s - loss: 0.0934 - acc: 0.9658 - val_loss: 0.8184 - val_acc: 0.7529\n"
     ]
    },
    {
     "data": {
      "text/plain": [
       "<keras.callbacks.History at 0x7f958f34ab10>"
      ]
     },
     "execution_count": 33,
     "metadata": {},
     "output_type": "execute_result"
    }
   ],
   "source": [
    "file_path=\"RNN_val_loss_cat_dog.hdf5\"\n",
    "checkpoint = ModelCheckpoint(file_path, monitor='val_loss', verbose=1, save_best_only=True, mode='min')\n",
    "early = EarlyStopping(monitor=\"val_loss\", mode=\"min\", patience=20)\n",
    "callbacks_list = [checkpoint, early] #early\n",
    "model.fit(X, Y, validation_split=0.1, callbacks=callbacks_list, epochs=20)"
   ]
  },
  {
   "cell_type": "code",
   "execution_count": 34,
   "metadata": {
    "collapsed": true
   },
   "outputs": [],
   "source": [
    "model = load_model(file_path)"
   ]
  },
  {
   "cell_type": "code",
   "execution_count": 53,
   "metadata": {
    "collapsed": true
   },
   "outputs": [],
   "source": [
    "a= model.predict(X[3470:3471])"
   ]
  },
  {
   "cell_type": "code",
   "execution_count": 54,
   "metadata": {},
   "outputs": [
    {
     "data": {
      "text/plain": [
       "array([[ 0.02894742,  0.97105265]], dtype=float32)"
      ]
     },
     "execution_count": 54,
     "metadata": {},
     "output_type": "execute_result"
    }
   ],
   "source": [
    "a"
   ]
  },
  {
   "cell_type": "code",
   "execution_count": null,
   "metadata": {
    "collapsed": true
   },
   "outputs": [],
   "source": []
  }
 ],
 "metadata": {
  "kernelspec": {
   "display_name": "Python 2",
   "language": "python",
   "name": "python2"
  },
  "language_info": {
   "codemirror_mode": {
    "name": "ipython",
    "version": 2
   },
   "file_extension": ".py",
   "mimetype": "text/x-python",
   "name": "python",
   "nbconvert_exporter": "python",
   "pygments_lexer": "ipython2",
   "version": "2.7.13"
  }
 },
 "nbformat": 4,
 "nbformat_minor": 2
}
