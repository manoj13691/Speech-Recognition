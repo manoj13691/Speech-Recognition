{
 "cells": [
  {
   "cell_type": "code",
   "execution_count": 1,
   "metadata": {},
   "outputs": [
    {
     "name": "stderr",
     "output_type": "stream",
     "text": [
      "Using TensorFlow backend.\n"
     ]
    }
   ],
   "source": [
    "import numpy as np\n",
    "from keras.models import Sequential\n",
    "from keras.layers import Dense\n",
    "from keras.layers import Dropout\n",
    "from keras.layers import Flatten\n",
    "from keras.layers.convolutional import Conv2D\n",
    "from keras.layers.convolutional import MaxPooling2D\n",
    "from keras.utils import np_utils\n",
    "from keras import backend as K\n",
    "from keras.models import load_model\n",
    "from keras.callbacks import EarlyStopping, ModelCheckpoint\n",
    "K.set_image_dim_ordering('th')\n",
    "import pickle"
   ]
  },
  {
   "cell_type": "code",
   "execution_count": 2,
   "metadata": {},
   "outputs": [
    {
     "name": "stdout",
     "output_type": "stream",
     "text": [
      "(1713, 20, 100)\n",
      "(1713, 2)\n",
      "(1731, 20, 100)\n",
      "(1731, 2)\n",
      "(3444, 20, 100)\n",
      "(3444, 2)\n"
     ]
    }
   ],
   "source": [
    "num_classes = bird_audio_with_label = pickle.load( open( \"bed.txt\", \"rb\" ) )\n",
    "X_bird = bird_audio_with_label[\"bed\"]\n",
    "Y_bird = np.array([[1,0]] * X_bird.shape[0])\n",
    "print X_bird.shape\n",
    "print Y_bird.shape\n",
    "\n",
    "bed_audio_with_label = pickle.load( open( \"bird.txt\", \"rb\" ) )\n",
    "X_bed = bed_audio_with_label[\"bird\"]\n",
    "Y_bed = np.array([[0,1]] * X_bed.shape[0])\n",
    "print X_bed.shape\n",
    "print Y_bed.shape\n",
    "\n",
    "X = np.vstack((X_bird, X_bed))\n",
    "Y = np.vstack((Y_bird, Y_bed))\n",
    "print X.shape\n",
    "print Y.shape"
   ]
  },
  {
   "cell_type": "code",
   "execution_count": 3,
   "metadata": {},
   "outputs": [
    {
     "name": "stdout",
     "output_type": "stream",
     "text": [
      "(3444, 1, 20, 100)\n",
      "(3444, 2)\n",
      "2\n"
     ]
    }
   ],
   "source": [
    "X = X.reshape(X.shape[0], 1, 20, 100)\n",
    "print X.shape\n",
    "print Y.shape\n",
    "num_classes = Y.shape[1]\n",
    "print num_classes"
   ]
  },
  {
   "cell_type": "code",
   "execution_count": 4,
   "metadata": {
    "collapsed": true
   },
   "outputs": [],
   "source": [
    "model = Sequential()\n",
    "model.add(Conv2D(30, (5, 5), input_shape=(1, 20, 100), activation='relu'))\n",
    "model.add(MaxPooling2D(pool_size=(2, 2)))\n",
    "model.add(Conv2D(15, (3, 3), activation='relu'))\n",
    "model.add(MaxPooling2D(pool_size=(2, 2)))\n",
    "model.add(Dropout(0.2))\n",
    "model.add(Flatten())\n",
    "model.add(Dense(128, activation='relu'))\n",
    "model.add(Dense(50, activation='relu'))\n",
    "model.add(Dense(num_classes, activation='softmax'))\n",
    "# Compile model\n",
    "model.compile(loss='binary_crossentropy', optimizer='adam', metrics=['accuracy'])"
   ]
  },
  {
   "cell_type": "code",
   "execution_count": 5,
   "metadata": {},
   "outputs": [
    {
     "name": "stdout",
     "output_type": "stream",
     "text": [
      "_________________________________________________________________\n",
      "Layer (type)                 Output Shape              Param #   \n",
      "=================================================================\n",
      "conv2d_1 (Conv2D)            (None, 30, 16, 96)        780       \n",
      "_________________________________________________________________\n",
      "max_pooling2d_1 (MaxPooling2 (None, 30, 8, 48)         0         \n",
      "_________________________________________________________________\n",
      "conv2d_2 (Conv2D)            (None, 15, 6, 46)         4065      \n",
      "_________________________________________________________________\n",
      "max_pooling2d_2 (MaxPooling2 (None, 15, 3, 23)         0         \n",
      "_________________________________________________________________\n",
      "dropout_1 (Dropout)          (None, 15, 3, 23)         0         \n",
      "_________________________________________________________________\n",
      "flatten_1 (Flatten)          (None, 1035)              0         \n",
      "_________________________________________________________________\n",
      "dense_1 (Dense)              (None, 128)               132608    \n",
      "_________________________________________________________________\n",
      "dense_2 (Dense)              (None, 50)                6450      \n",
      "_________________________________________________________________\n",
      "dense_3 (Dense)              (None, 2)                 102       \n",
      "=================================================================\n",
      "Total params: 144,005\n",
      "Trainable params: 144,005\n",
      "Non-trainable params: 0\n",
      "_________________________________________________________________\n"
     ]
    }
   ],
   "source": [
    "model.summary()"
   ]
  },
  {
   "cell_type": "code",
   "execution_count": 6,
   "metadata": {},
   "outputs": [
    {
     "name": "stdout",
     "output_type": "stream",
     "text": [
      "Train on 3099 samples, validate on 345 samples\n",
      "Epoch 1/20\n",
      "3000/3099 [============================>.] - ETA: 0s - loss: 1.0270 - acc: 0.6887Epoch 00000: val_loss improved from inf to 0.44058, saving model to CNN_val_loss_bird_dog.hdf5\n",
      "3099/3099 [==============================] - 21s - loss: 1.0040 - acc: 0.6947 - val_loss: 0.4406 - val_acc: 0.7739\n",
      "Epoch 2/20\n",
      "3000/3099 [============================>.] - ETA: 0s - loss: 0.2673 - acc: 0.8937Epoch 00001: val_loss improved from 0.44058 to 0.26883, saving model to CNN_val_loss_bird_dog.hdf5\n",
      "3099/3099 [==============================] - 20s - loss: 0.2656 - acc: 0.8948 - val_loss: 0.2688 - val_acc: 0.8870\n",
      "Epoch 3/20\n",
      "3000/3099 [============================>.] - ETA: 0s - loss: 0.1765 - acc: 0.9350Epoch 00002: val_loss improved from 0.26883 to 0.26226, saving model to CNN_val_loss_bird_dog.hdf5\n",
      "3099/3099 [==============================] - 20s - loss: 0.1754 - acc: 0.9355 - val_loss: 0.2623 - val_acc: 0.9101\n",
      "Epoch 4/20\n",
      "3000/3099 [============================>.] - ETA: 0s - loss: 0.1406 - acc: 0.9477Epoch 00003: val_loss improved from 0.26226 to 0.22040, saving model to CNN_val_loss_bird_dog.hdf5\n",
      "3099/3099 [==============================] - 20s - loss: 0.1407 - acc: 0.9474 - val_loss: 0.2204 - val_acc: 0.9246\n",
      "Epoch 5/20\n",
      "3000/3099 [============================>.] - ETA: 0s - loss: 0.1189 - acc: 0.9580Epoch 00004: val_loss improved from 0.22040 to 0.14160, saving model to CNN_val_loss_bird_dog.hdf5\n",
      "3099/3099 [==============================] - 21s - loss: 0.1222 - acc: 0.9568 - val_loss: 0.1416 - val_acc: 0.9507\n",
      "Epoch 6/20\n",
      "3000/3099 [============================>.] - ETA: 0s - loss: 0.1061 - acc: 0.9623Epoch 00005: val_loss did not improve\n",
      "3099/3099 [==============================] - 20s - loss: 0.1090 - acc: 0.9616 - val_loss: 0.2364 - val_acc: 0.9217\n",
      "Epoch 7/20\n",
      "3000/3099 [============================>.] - ETA: 0s - loss: 0.0854 - acc: 0.9693Epoch 00006: val_loss did not improve\n",
      "3099/3099 [==============================] - 22s - loss: 0.0853 - acc: 0.9690 - val_loss: 0.2168 - val_acc: 0.9333\n",
      "Epoch 8/20\n",
      "3000/3099 [============================>.] - ETA: 0s - loss: 0.0709 - acc: 0.9773Epoch 00007: val_loss did not improve\n",
      "3099/3099 [==============================] - 20s - loss: 0.0697 - acc: 0.9777 - val_loss: 0.1813 - val_acc: 0.9333\n",
      "Epoch 9/20\n",
      "3000/3099 [============================>.] - ETA: 0s - loss: 0.0623 - acc: 0.9790Epoch 00008: val_loss did not improve\n",
      "3099/3099 [==============================] - 20s - loss: 0.0634 - acc: 0.9784 - val_loss: 0.1935 - val_acc: 0.9362\n",
      "Epoch 10/20\n",
      "3000/3099 [============================>.] - ETA: 0s - loss: 0.0742 - acc: 0.9763Epoch 00009: val_loss did not improve\n",
      "3099/3099 [==============================] - 21s - loss: 0.0737 - acc: 0.9768 - val_loss: 0.2091 - val_acc: 0.9391\n",
      "Epoch 11/20\n",
      "3000/3099 [============================>.] - ETA: 0s - loss: 0.0526 - acc: 0.9830Epoch 00010: val_loss did not improve\n",
      "3099/3099 [==============================] - 20s - loss: 0.0523 - acc: 0.9829 - val_loss: 0.1952 - val_acc: 0.9478\n",
      "Epoch 12/20\n",
      "3000/3099 [============================>.] - ETA: 0s - loss: 0.0431 - acc: 0.9860Epoch 00011: val_loss did not improve\n",
      "3099/3099 [==============================] - 21s - loss: 0.0431 - acc: 0.9864 - val_loss: 0.2196 - val_acc: 0.9420\n",
      "Epoch 13/20\n",
      "3000/3099 [============================>.] - ETA: 0s - loss: 0.0444 - acc: 0.9850Epoch 00012: val_loss did not improve\n",
      "3099/3099 [==============================] - 21s - loss: 0.0435 - acc: 0.9855 - val_loss: 0.1464 - val_acc: 0.9565\n",
      "Epoch 14/20\n",
      "3000/3099 [============================>.] - ETA: 0s - loss: 0.0425 - acc: 0.9860Epoch 00013: val_loss did not improve\n",
      "3099/3099 [==============================] - 21s - loss: 0.0415 - acc: 0.9864 - val_loss: 0.2368 - val_acc: 0.9391\n",
      "Epoch 15/20\n",
      "3000/3099 [============================>.] - ETA: 0s - loss: 0.0313 - acc: 0.9903Epoch 00014: val_loss did not improve\n",
      "3099/3099 [==============================] - 20s - loss: 0.0307 - acc: 0.9906 - val_loss: 0.1895 - val_acc: 0.9449\n",
      "Epoch 16/20\n",
      "3000/3099 [============================>.] - ETA: 0s - loss: 0.0354 - acc: 0.9863Epoch 00015: val_loss did not improve\n",
      "3099/3099 [==============================] - 20s - loss: 0.0369 - acc: 0.9858 - val_loss: 0.1550 - val_acc: 0.9565\n",
      "Epoch 17/20\n",
      "3000/3099 [============================>.] - ETA: 0s - loss: 0.0222 - acc: 0.9923Epoch 00016: val_loss did not improve\n",
      "3099/3099 [==============================] - 21s - loss: 0.0228 - acc: 0.9919 - val_loss: 0.2355 - val_acc: 0.9362\n",
      "Epoch 18/20\n",
      "3000/3099 [============================>.] - ETA: 0s - loss: 0.0221 - acc: 0.9920Epoch 00017: val_loss did not improve\n",
      "3099/3099 [==============================] - 21s - loss: 0.0219 - acc: 0.9923 - val_loss: 0.1604 - val_acc: 0.9536\n",
      "Epoch 19/20\n",
      "3000/3099 [============================>.] - ETA: 0s - loss: 0.0234 - acc: 0.9940Epoch 00018: val_loss did not improve\n",
      "3099/3099 [==============================] - 22s - loss: 0.0247 - acc: 0.9935 - val_loss: 0.1427 - val_acc: 0.9652\n",
      "Epoch 20/20\n",
      "3000/3099 [============================>.] - ETA: 0s - loss: 0.0217 - acc: 0.9933Epoch 00019: val_loss did not improve\n",
      "3099/3099 [==============================] - 20s - loss: 0.0218 - acc: 0.9932 - val_loss: 0.1679 - val_acc: 0.9594\n"
     ]
    },
    {
     "data": {
      "text/plain": [
       "<keras.callbacks.History at 0x7fb92640ae90>"
      ]
     },
     "execution_count": 6,
     "metadata": {},
     "output_type": "execute_result"
    }
   ],
   "source": [
    "file_path=\"CNN_val_loss_bird_dog.hdf5\"\n",
    "checkpoint = ModelCheckpoint(file_path, monitor='val_loss', verbose=1, save_best_only=True, mode='min')\n",
    "early = EarlyStopping(monitor=\"val_loss\", mode=\"min\", patience=20)\n",
    "callbacks_list = [checkpoint, early] #early\n",
    "model.fit(X, Y, validation_split=0.1, callbacks=callbacks_list, epochs=20, batch_size= 100)"
   ]
  },
  {
   "cell_type": "code",
   "execution_count": 7,
   "metadata": {
    "collapsed": true
   },
   "outputs": [],
   "source": [
    "model = load_model(file_path)"
   ]
  },
  {
   "cell_type": "code",
   "execution_count": 8,
   "metadata": {
    "collapsed": true
   },
   "outputs": [],
   "source": [
    "predicted = model.predict(X)"
   ]
  },
  {
   "cell_type": "code",
   "execution_count": 9,
   "metadata": {
    "collapsed": true
   },
   "outputs": [],
   "source": [
    "from sklearn import metrics"
   ]
  },
  {
   "cell_type": "code",
   "execution_count": 10,
   "metadata": {},
   "outputs": [
    {
     "data": {
      "text/plain": [
       "0.083990980919505673"
      ]
     },
     "execution_count": 10,
     "metadata": {},
     "output_type": "execute_result"
    }
   ],
   "source": [
    "metrics.log_loss(Y, predicted)"
   ]
  },
  {
   "cell_type": "code",
   "execution_count": null,
   "metadata": {
    "collapsed": true
   },
   "outputs": [],
   "source": []
  }
 ],
 "metadata": {
  "kernelspec": {
   "display_name": "Python 2",
   "language": "python",
   "name": "python2"
  },
  "language_info": {
   "codemirror_mode": {
    "name": "ipython",
    "version": 2
   },
   "file_extension": ".py",
   "mimetype": "text/x-python",
   "name": "python",
   "nbconvert_exporter": "python",
   "pygments_lexer": "ipython2",
   "version": "2.7.13"
  }
 },
 "nbformat": 4,
 "nbformat_minor": 2
}
