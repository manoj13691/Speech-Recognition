{
 "cells": [
  {
   "cell_type": "code",
   "execution_count": 7,
   "metadata": {},
   "outputs": [],
   "source": [
    "import numpy as np\n",
    "from keras.models import Sequential\n",
    "from keras.layers import Dense\n",
    "from keras.layers import Dropout\n",
    "from keras.layers import Flatten\n",
    "from keras.layers.convolutional import Conv2D\n",
    "from keras.layers.convolutional import MaxPooling2D\n",
    "from keras.utils import np_utils\n",
    "from keras import backend as K\n",
    "from keras.models import load_model\n",
    "from keras.callbacks import EarlyStopping, ModelCheckpoint\n",
    "K.set_image_dim_ordering('th')\n",
    "import pickle"
   ]
  },
  {
   "cell_type": "code",
   "execution_count": 2,
   "metadata": {},
   "outputs": [
    {
     "name": "stdout",
     "output_type": "stream",
     "text": [
      "(1733, 20, 50)\n",
      "(1733, 2)\n",
      "(1746, 20, 50)\n",
      "(1746, 2)\n",
      "(3479, 20, 50)\n",
      "(3479, 2)\n"
     ]
    }
   ],
   "source": [
    "num_classes = bird_audio_with_label = pickle.load( open( \"cat.pkl\", \"rb\" ) )\n",
    "X_bird = bird_audio_with_label[\"cat\"]\n",
    "Y_bird = np.array([[1,0]] * X_bird.shape[0])\n",
    "print X_bird.shape\n",
    "print Y_bird.shape\n",
    "\n",
    "bed_audio_with_label = pickle.load( open( \"dog.pkl\", \"rb\" ) )\n",
    "X_bed = bed_audio_with_label[\"dog\"]\n",
    "Y_bed = np.array([[0,1]] * X_bed.shape[0])\n",
    "print X_bed.shape\n",
    "print Y_bed.shape\n",
    "\n",
    "X = np.vstack((X_bird, X_bed))\n",
    "Y = np.vstack((Y_bird, Y_bed))\n",
    "print X.shape\n",
    "print Y.shape"
   ]
  },
  {
   "cell_type": "code",
   "execution_count": 3,
   "metadata": {},
   "outputs": [
    {
     "name": "stdout",
     "output_type": "stream",
     "text": [
      "(3479, 1, 20, 50)\n",
      "(3479, 2)\n",
      "2\n"
     ]
    }
   ],
   "source": [
    "X = X.reshape(X.shape[0], 1, 20, 50)\n",
    "print X.shape\n",
    "print Y.shape\n",
    "num_classes = Y.shape[1]\n",
    "print num_classes"
   ]
  },
  {
   "cell_type": "code",
   "execution_count": 4,
   "metadata": {
    "collapsed": true
   },
   "outputs": [],
   "source": [
    "model = Sequential()\n",
    "model.add(Conv2D(30, (5, 5), input_shape=(1, 20, 50), activation='relu'))\n",
    "model.add(MaxPooling2D(pool_size=(2, 2)))\n",
    "model.add(Conv2D(15, (3, 3), activation='relu'))\n",
    "model.add(MaxPooling2D(pool_size=(2, 2)))\n",
    "model.add(Dropout(0.2))\n",
    "model.add(Flatten())\n",
    "model.add(Dense(128, activation='relu'))\n",
    "model.add(Dense(50, activation='relu'))\n",
    "model.add(Dense(num_classes, activation='softmax'))\n",
    "# Compile model\n",
    "model.compile(loss='binary_crossentropy', optimizer='adam', metrics=['accuracy'])"
   ]
  },
  {
   "cell_type": "code",
   "execution_count": 5,
   "metadata": {},
   "outputs": [
    {
     "name": "stdout",
     "output_type": "stream",
     "text": [
      "_________________________________________________________________\n",
      "Layer (type)                 Output Shape              Param #   \n",
      "=================================================================\n",
      "conv2d_1 (Conv2D)            (None, 30, 16, 46)        780       \n",
      "_________________________________________________________________\n",
      "max_pooling2d_1 (MaxPooling2 (None, 30, 8, 23)         0         \n",
      "_________________________________________________________________\n",
      "conv2d_2 (Conv2D)            (None, 15, 6, 21)         4065      \n",
      "_________________________________________________________________\n",
      "max_pooling2d_2 (MaxPooling2 (None, 15, 3, 10)         0         \n",
      "_________________________________________________________________\n",
      "dropout_1 (Dropout)          (None, 15, 3, 10)         0         \n",
      "_________________________________________________________________\n",
      "flatten_1 (Flatten)          (None, 450)               0         \n",
      "_________________________________________________________________\n",
      "dense_1 (Dense)              (None, 128)               57728     \n",
      "_________________________________________________________________\n",
      "dense_2 (Dense)              (None, 50)                6450      \n",
      "_________________________________________________________________\n",
      "dense_3 (Dense)              (None, 2)                 102       \n",
      "=================================================================\n",
      "Total params: 69,125\n",
      "Trainable params: 69,125\n",
      "Non-trainable params: 0\n",
      "_________________________________________________________________\n"
     ]
    }
   ],
   "source": [
    "model.summary()"
   ]
  },
  {
   "cell_type": "code",
   "execution_count": 8,
   "metadata": {},
   "outputs": [
    {
     "name": "stdout",
     "output_type": "stream",
     "text": [
      "Train on 3131 samples, validate on 348 samples\n",
      "Epoch 1/20\n",
      "3100/3131 [============================>.] - ETA: 0s - loss: 1.2968 - acc: 0.6468Epoch 00000: val_loss improved from inf to 0.49551, saving model to CNN_val_loss_cat_dog.hdf5\n",
      "3131/3131 [==============================] - 10s - loss: 1.2878 - acc: 0.6487 - val_loss: 0.4955 - val_acc: 0.7672\n",
      "Epoch 2/20\n",
      "3100/3131 [============================>.] - ETA: 0s - loss: 0.3311 - acc: 0.8577Epoch 00001: val_loss improved from 0.49551 to 0.10746, saving model to CNN_val_loss_cat_dog.hdf5\n",
      "3131/3131 [==============================] - 10s - loss: 0.3303 - acc: 0.8579 - val_loss: 0.1075 - val_acc: 0.9655\n",
      "Epoch 3/20\n",
      "3100/3131 [============================>.] - ETA: 0s - loss: 0.1577 - acc: 0.9400Epoch 00002: val_loss did not improve\n",
      "3131/3131 [==============================] - 10s - loss: 0.1584 - acc: 0.9403 - val_loss: 0.1881 - val_acc: 0.9310\n",
      "Epoch 4/20\n",
      "3100/3131 [============================>.] - ETA: 0s - loss: 0.1064 - acc: 0.9600Epoch 00003: val_loss did not improve\n",
      "3131/3131 [==============================] - 10s - loss: 0.1057 - acc: 0.9604 - val_loss: 0.1712 - val_acc: 0.9339\n",
      "Epoch 5/20\n",
      "3100/3131 [============================>.] - ETA: 0s - loss: 0.0845 - acc: 0.9681Epoch 00004: val_loss improved from 0.10746 to 0.04340, saving model to CNN_val_loss_cat_dog.hdf5\n",
      "3131/3131 [==============================] - 10s - loss: 0.0845 - acc: 0.9681 - val_loss: 0.0434 - val_acc: 0.9828\n",
      "Epoch 6/20\n",
      "3100/3131 [============================>.] - ETA: 0s - loss: 0.0642 - acc: 0.9739Epoch 00005: val_loss did not improve\n",
      "3131/3131 [==============================] - 10s - loss: 0.0640 - acc: 0.9738 - val_loss: 0.0941 - val_acc: 0.9540\n",
      "Epoch 7/20\n",
      "3100/3131 [============================>.] - ETA: 0s - loss: 0.0635 - acc: 0.9742Epoch 00006: val_loss did not improve\n",
      "3131/3131 [==============================] - 10s - loss: 0.0630 - acc: 0.9744 - val_loss: 0.0719 - val_acc: 0.9684\n",
      "Epoch 8/20\n",
      "3100/3131 [============================>.] - ETA: 0s - loss: 0.0519 - acc: 0.9806Epoch 00007: val_loss did not improve\n",
      "3131/3131 [==============================] - 10s - loss: 0.0519 - acc: 0.9805 - val_loss: 0.0923 - val_acc: 0.9655\n",
      "Epoch 9/20\n",
      "3100/3131 [============================>.] - ETA: 0s - loss: 0.0431 - acc: 0.9819Epoch 00008: val_loss did not improve\n",
      "3131/3131 [==============================] - 10s - loss: 0.0430 - acc: 0.9821 - val_loss: 0.1445 - val_acc: 0.9454\n",
      "Epoch 10/20\n",
      "3100/3131 [============================>.] - ETA: 0s - loss: 0.0491 - acc: 0.9835Epoch 00009: val_loss did not improve\n",
      "3131/3131 [==============================] - 10s - loss: 0.0488 - acc: 0.9837 - val_loss: 0.0476 - val_acc: 0.9799\n",
      "Epoch 11/20\n",
      "3100/3131 [============================>.] - ETA: 0s - loss: 0.0381 - acc: 0.9877Epoch 00010: val_loss improved from 0.04340 to 0.02305, saving model to CNN_val_loss_cat_dog.hdf5\n",
      "3131/3131 [==============================] - 10s - loss: 0.0377 - acc: 0.9879 - val_loss: 0.0230 - val_acc: 0.9914\n",
      "Epoch 12/20\n",
      "3100/3131 [============================>.] - ETA: 0s - loss: 0.0515 - acc: 0.9803Epoch 00011: val_loss did not improve\n",
      "3131/3131 [==============================] - 10s - loss: 0.0511 - acc: 0.9805 - val_loss: 0.0983 - val_acc: 0.9598\n",
      "Epoch 13/20\n",
      "3100/3131 [============================>.] - ETA: 0s - loss: 0.0298 - acc: 0.9894Epoch 00012: val_loss did not improve\n",
      "3131/3131 [==============================] - 10s - loss: 0.0297 - acc: 0.9895 - val_loss: 0.0735 - val_acc: 0.9655\n",
      "Epoch 14/20\n",
      "3100/3131 [============================>.] - ETA: 0s - loss: 0.0261 - acc: 0.9923Epoch 00013: val_loss did not improve\n",
      "3131/3131 [==============================] - 10s - loss: 0.0272 - acc: 0.9920 - val_loss: 0.0957 - val_acc: 0.9655\n",
      "Epoch 15/20\n",
      "3100/3131 [============================>.] - ETA: 0s - loss: 0.0325 - acc: 0.9890Epoch 00014: val_loss did not improve\n",
      "3131/3131 [==============================] - 10s - loss: 0.0322 - acc: 0.9891 - val_loss: 0.3152 - val_acc: 0.9109\n",
      "Epoch 16/20\n",
      "3100/3131 [============================>.] - ETA: 0s - loss: 0.0327 - acc: 0.9887Epoch 00015: val_loss did not improve\n",
      "3131/3131 [==============================] - 10s - loss: 0.0330 - acc: 0.9885 - val_loss: 0.1241 - val_acc: 0.9626\n",
      "Epoch 17/20\n",
      "3100/3131 [============================>.] - ETA: 0s - loss: 0.0245 - acc: 0.9935Epoch 00016: val_loss did not improve\n",
      "3131/3131 [==============================] - 10s - loss: 0.0243 - acc: 0.9936 - val_loss: 0.1199 - val_acc: 0.9598\n",
      "Epoch 18/20\n",
      "3100/3131 [============================>.] - ETA: 0s - loss: 0.0175 - acc: 0.9935Epoch 00017: val_loss did not improve\n",
      "3131/3131 [==============================] - 10s - loss: 0.0174 - acc: 0.9936 - val_loss: 0.1175 - val_acc: 0.9569\n",
      "Epoch 19/20\n",
      "3100/3131 [============================>.] - ETA: 0s - loss: 0.0191 - acc: 0.9926Epoch 00018: val_loss did not improve\n",
      "3131/3131 [==============================] - 10s - loss: 0.0189 - acc: 0.9927 - val_loss: 0.0472 - val_acc: 0.9828\n",
      "Epoch 20/20\n",
      "3100/3131 [============================>.] - ETA: 0s - loss: 0.0189 - acc: 0.9945Epoch 00019: val_loss did not improve\n",
      "3131/3131 [==============================] - 10s - loss: 0.0199 - acc: 0.9939 - val_loss: 0.0813 - val_acc: 0.9655\n"
     ]
    },
    {
     "data": {
      "text/plain": [
       "<keras.callbacks.History at 0x7f66cabd28d0>"
      ]
     },
     "execution_count": 8,
     "metadata": {},
     "output_type": "execute_result"
    }
   ],
   "source": [
    "file_path=\"CNN_val_loss_cat_dog.hdf5\"\n",
    "checkpoint = ModelCheckpoint(file_path, monitor='val_loss', verbose=1, save_best_only=True, mode='min')\n",
    "early = EarlyStopping(monitor=\"val_loss\", mode=\"min\", patience=20)\n",
    "callbacks_list = [checkpoint, early] #early\n",
    "model.fit(X, Y, validation_split=0.1, callbacks=callbacks_list, epochs=20, batch_size= 100)"
   ]
  },
  {
   "cell_type": "code",
   "execution_count": 9,
   "metadata": {
    "collapsed": true
   },
   "outputs": [],
   "source": [
    "model = load_model(file_path)"
   ]
  },
  {
   "cell_type": "code",
   "execution_count": 10,
   "metadata": {
    "collapsed": true
   },
   "outputs": [],
   "source": [
    "predicted = model.predict(X)"
   ]
  },
  {
   "cell_type": "code",
   "execution_count": 11,
   "metadata": {
    "collapsed": true
   },
   "outputs": [],
   "source": [
    "from sklearn import metrics"
   ]
  },
  {
   "cell_type": "code",
   "execution_count": 12,
   "metadata": {},
   "outputs": [
    {
     "data": {
      "text/plain": [
       "0.032620967768485762"
      ]
     },
     "execution_count": 12,
     "metadata": {},
     "output_type": "execute_result"
    }
   ],
   "source": [
    "metrics.log_loss(Y, predicted)"
   ]
  },
  {
   "cell_type": "code",
   "execution_count": null,
   "metadata": {
    "collapsed": true
   },
   "outputs": [],
   "source": []
  }
 ],
 "metadata": {
  "kernelspec": {
   "display_name": "Python 2",
   "language": "python",
   "name": "python2"
  },
  "language_info": {
   "codemirror_mode": {
    "name": "ipython",
    "version": 2
   },
   "file_extension": ".py",
   "mimetype": "text/x-python",
   "name": "python",
   "nbconvert_exporter": "python",
   "pygments_lexer": "ipython2",
   "version": "2.7.13"
  }
 },
 "nbformat": 4,
 "nbformat_minor": 2
}
