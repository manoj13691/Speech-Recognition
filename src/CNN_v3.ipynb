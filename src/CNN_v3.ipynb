{
  "nbformat": 4,
  "nbformat_minor": 0,
  "metadata": {
    "colab": {
      "name": "Untitled0.ipynb",
      "version": "0.3.2",
      "views": {},
      "default_view": {},
      "provenance": [],
      "collapsed_sections": []
    },
    "kernelspec": {
      "name": "python2",
      "display_name": "Python 2"
    },
    "accelerator": "GPU"
  },
  "cells": [
    {
      "metadata": {
        "id": "cXKKkndwyqAG",
        "colab_type": "code",
        "colab": {
          "autoexec": {
            "startup": false,
            "wait_interval": 0
          },
          "output_extras": [
            {
              "item_id": 5
            }
          ],
          "base_uri": "https://localhost:8080/",
          "height": 238
        },
        "outputId": "28f0aafe-b067-4344-f329-0960c491ded4",
        "executionInfo": {
          "status": "ok",
          "timestamp": 1520129734797,
          "user_tz": 300,
          "elapsed": 3336,
          "user": {
            "displayName": "Manoj Joshi",
            "photoUrl": "https://lh3.googleusercontent.com/a/default-user=s128",
            "userId": "112099731100984326150"
          }
        }
      },
      "cell_type": "code",
      "source": [
        "!pip install googledrivedownloader\n",
        "!pip install keras"
      ],
      "execution_count": 1,
      "outputs": [
        {
          "output_type": "stream",
          "text": [
            "Collecting googledrivedownloader\n",
            "  Downloading googledrivedownloader-0.3-py2.py3-none-any.whl\n",
            "Installing collected packages: googledrivedownloader\n",
            "Successfully installed googledrivedownloader-0.3\n",
            "Collecting keras\n",
            "  Downloading Keras-2.1.4-py2.py3-none-any.whl (322kB)\n",
            "\u001b[K    100% |████████████████████████████████| 327kB 2.3MB/s \n",
            "\u001b[?25hRequirement already satisfied: pyyaml in /usr/local/lib/python2.7/dist-packages (from keras)\n",
            "Requirement already satisfied: six>=1.9.0 in /usr/local/lib/python2.7/dist-packages (from keras)\n",
            "Requirement already satisfied: numpy>=1.9.1 in /usr/local/lib/python2.7/dist-packages (from keras)\n",
            "Requirement already satisfied: scipy>=0.14 in /usr/local/lib/python2.7/dist-packages (from keras)\n",
            "Installing collected packages: keras\n",
            "Successfully installed keras-2.1.4\n"
          ],
          "name": "stdout"
        }
      ]
    },
    {
      "metadata": {
        "id": "q4EhGAUayus6",
        "colab_type": "code",
        "colab": {
          "autoexec": {
            "startup": false,
            "wait_interval": 0
          },
          "output_extras": [
            {
              "item_id": 10
            }
          ],
          "base_uri": "https://localhost:8080/",
          "height": 170
        },
        "outputId": "5f4c4a16-d349-4abb-8976-1e0cef29be2e",
        "executionInfo": {
          "status": "ok",
          "timestamp": 1520129816636,
          "user_tz": 300,
          "elapsed": 10448,
          "user": {
            "displayName": "Manoj Joshi",
            "photoUrl": "https://lh3.googleusercontent.com/a/default-user=s128",
            "userId": "112099731100984326150"
          }
        }
      },
      "cell_type": "code",
      "source": [
        "from google_drive_downloader import GoogleDriveDownloader as gdd\n",
        "\n",
        "ids =[\"1o4FNPEsiJyTAkexCzR1P85WgaODJZTMs\",\"1yiP1nS5bCKHYto0Px3f_BOUbyJJVdKRO\",\n",
        "\"1f3wDVtDq1oedLJ0Hidn2gduttRacAtoD\", \"1Svv2H8HgF-gyE3GgHJ4Kgcpb7_l88tBl\",\n",
        "\"1aJQwc58seuB4tyIV3tZCFQBbSsI0CAVJ\", \"1Q77JWfZLXc_BmFoj0rQoIojvtloTkk2f\",\n",
        "\"1bYFaYWfmmAgfj4hyEQXSsY_PrMt9YF0l\", \"1ZKhkmCHBFrrocGhmAG55Wgkd-ewZmd9l\",\n",
        "\"1Z7FiOG8iTfUBnogZw8SQOPd1NDjQ79CO\"]\n",
        "\n",
        "file_names = [\"bed.pkl\",\"bird.pkl\", \"cat.pkl\", \"dog.pkl\", \"down.pkl\", \"eight.pkl\", \"five.pkl\", \"four.pkl\", \"go.pkl\"]\n",
        "for i in range(len(ids)):\n",
        "  a = gdd.download_file_from_google_drive(file_id= ids[i],\n",
        "                                      dest_path=\"./\"+file_names[i],\n",
        "                                      unzip=False)"
      ],
      "execution_count": 2,
      "outputs": [
        {
          "output_type": "stream",
          "text": [
            "Downloading 1o4FNPEsiJyTAkexCzR1P85WgaODJZTMs into ./bed.pkl... Done.\n",
            "Downloading 1yiP1nS5bCKHYto0Px3f_BOUbyJJVdKRO into ./bird.pkl... Done.\n",
            "Downloading 1f3wDVtDq1oedLJ0Hidn2gduttRacAtoD into ./cat.pkl... Done.\n",
            "Downloading 1Svv2H8HgF-gyE3GgHJ4Kgcpb7_l88tBl into ./dog.pkl... Done.\n",
            "Downloading 1aJQwc58seuB4tyIV3tZCFQBbSsI0CAVJ into ./down.pkl... Done.\n",
            "Downloading 1Q77JWfZLXc_BmFoj0rQoIojvtloTkk2f into ./eight.pkl... Done.\n",
            "Downloading 1bYFaYWfmmAgfj4hyEQXSsY_PrMt9YF0l into ./five.pkl... Done.\n",
            "Downloading 1ZKhkmCHBFrrocGhmAG55Wgkd-ewZmd9l into ./four.pkl... Done.\n",
            "Downloading 1Z7FiOG8iTfUBnogZw8SQOPd1NDjQ79CO into ./go.pkl... Done.\n"
          ],
          "name": "stdout"
        }
      ]
    },
    {
      "metadata": {
        "id": "htsmTCK5zA8e",
        "colab_type": "code",
        "colab": {
          "autoexec": {
            "startup": false,
            "wait_interval": 0
          },
          "output_extras": [
            {
              "item_id": 1
            }
          ],
          "base_uri": "https://localhost:8080/",
          "height": 34
        },
        "outputId": "cb1ed235-4c62-4b14-ee26-6e9ba8ee8792",
        "executionInfo": {
          "status": "ok",
          "timestamp": 1520129856641,
          "user_tz": 300,
          "elapsed": 6850,
          "user": {
            "displayName": "Manoj Joshi",
            "photoUrl": "https://lh3.googleusercontent.com/a/default-user=s128",
            "userId": "112099731100984326150"
          }
        }
      },
      "cell_type": "code",
      "source": [
        "import numpy as np\n",
        "from keras.models import Sequential\n",
        "from keras.layers import Dense\n",
        "from keras.layers import Dropout\n",
        "from keras.layers import Flatten\n",
        "from keras.layers.convolutional import Conv2D\n",
        "from keras.layers.convolutional import MaxPooling2D\n",
        "from keras.utils import np_utils\n",
        "from keras.utils import to_categorical\n",
        "from sklearn.preprocessing import LabelEncoder\n",
        "from sklearn.preprocessing import OneHotEncoder\n",
        "from keras import backend as K\n",
        "from keras.models import load_model\n",
        "from keras.callbacks import EarlyStopping, ModelCheckpoint\n",
        "K.set_image_dim_ordering('th')\n",
        "import pickle"
      ],
      "execution_count": 3,
      "outputs": [
        {
          "output_type": "stream",
          "text": [
            "Using TensorFlow backend.\n"
          ],
          "name": "stderr"
        }
      ]
    },
    {
      "metadata": {
        "id": "djarUI1IzLlr",
        "colab_type": "code",
        "colab": {
          "autoexec": {
            "startup": false,
            "wait_interval": 0
          }
        }
      },
      "cell_type": "code",
      "source": [
        "\"\"\"words list represents the \"pkl\" file names\n",
        "    which have the same word as .wav file.\n",
        "    The pkl file is dictionary with key as the word spoken\n",
        "    and the value as numpy array where element is a (20 * 100) vector\n",
        "    representing the mfcc vectors of the .wav file. \"\"\"\n",
        "\n",
        "words = [\"bed\", \"down\", \"dog\", \"eight\", \"four\", \"cat\",\"go\",\"bird\",\"five\"]\n",
        "#words = [\"bed\", \"down\", \"dog\"]"
      ],
      "execution_count": 0,
      "outputs": []
    },
    {
      "metadata": {
        "id": "EpA5WgaozRJl",
        "colab_type": "code",
        "colab": {
          "autoexec": {
            "startup": false,
            "wait_interval": 0
          },
          "output_extras": [
            {
              "item_id": 1
            }
          ],
          "base_uri": "https://localhost:8080/",
          "height": 170
        },
        "outputId": "bc450538-d4a8-4d46-c222-ee0d13284690",
        "executionInfo": {
          "status": "ok",
          "timestamp": 1520129889883,
          "user_tz": 300,
          "elapsed": 8406,
          "user": {
            "displayName": "Manoj Joshi",
            "photoUrl": "https://lh3.googleusercontent.com/a/default-user=s128",
            "userId": "112099731100984326150"
          }
        }
      },
      "cell_type": "code",
      "source": [
        "data = pickle.load( open( words[0]+\".pkl\", \"rb\" ) )\n",
        "for keys in data:\n",
        "    X = data[keys]\n",
        "    Y = np.array([[keys]] * data[keys].shape[0])\n",
        "    #print X_1.shape\n",
        "    \n",
        "    \n",
        "for i in range(1,len(words)):\n",
        "    data = pickle.load( open( words[i]+\".pkl\", \"rb\" ) )\n",
        "    for keys in data:\n",
        "        Y = np.append(Y, [[keys]] * data[keys].shape[0], axis = 0)\n",
        "        X = np.append(X, data[keys], axis = 0)\n",
        "        #print X_1.shape\n",
        "        \n",
        "print X.shape\n",
        "print Y.shape\n",
        "print Y"
      ],
      "execution_count": 5,
      "outputs": [
        {
          "output_type": "stream",
          "text": [
            "(18735, 20, 100)\n",
            "(18735, 1)\n",
            "[['bed']\n",
            " ['bed']\n",
            " ['bed']\n",
            " ...\n",
            " ['five']\n",
            " ['five']\n",
            " ['five']]\n"
          ],
          "name": "stdout"
        }
      ]
    },
    {
      "metadata": {
        "id": "jv44rDtFzTUi",
        "colab_type": "code",
        "colab": {
          "autoexec": {
            "startup": false,
            "wait_interval": 0
          },
          "output_extras": [
            {
              "item_id": 1
            }
          ],
          "base_uri": "https://localhost:8080/",
          "height": 71
        },
        "outputId": "c6cc5d1c-40d0-4e6c-9c70-c58cf3fa0ea8",
        "executionInfo": {
          "status": "ok",
          "timestamp": 1520129901001,
          "user_tz": 300,
          "elapsed": 233,
          "user": {
            "displayName": "Manoj Joshi",
            "photoUrl": "https://lh3.googleusercontent.com/a/default-user=s128",
            "userId": "112099731100984326150"
          }
        }
      },
      "cell_type": "code",
      "source": [
        "label_encoder = LabelEncoder()\n",
        "integer_encoded = label_encoder.fit_transform(Y)\n",
        "#print integer_encoded\n",
        "onehot_encoder = OneHotEncoder(sparse=False)\n",
        "integer_encoded = integer_encoded.reshape(len(integer_encoded), 1)\n",
        "onehot_encoded = onehot_encoder.fit_transform(integer_encoded)\n",
        "Y = onehot_encoded"
      ],
      "execution_count": 6,
      "outputs": [
        {
          "output_type": "stream",
          "text": [
            "/usr/local/lib/python2.7/dist-packages/sklearn/preprocessing/label.py:111: DataConversionWarning: A column-vector y was passed when a 1d array was expected. Please change the shape of y to (n_samples, ), for example using ravel().\n",
            "  y = column_or_1d(y, warn=True)\n"
          ],
          "name": "stderr"
        }
      ]
    },
    {
      "metadata": {
        "id": "KwWrtPyuzYCC",
        "colab_type": "code",
        "colab": {
          "autoexec": {
            "startup": false,
            "wait_interval": 0
          },
          "output_extras": [
            {
              "item_id": 1
            }
          ],
          "base_uri": "https://localhost:8080/",
          "height": 68
        },
        "outputId": "74c48817-4ac6-4403-e04a-a1d6cc925676",
        "executionInfo": {
          "status": "ok",
          "timestamp": 1520129913449,
          "user_tz": 300,
          "elapsed": 208,
          "user": {
            "displayName": "Manoj Joshi",
            "photoUrl": "https://lh3.googleusercontent.com/a/default-user=s128",
            "userId": "112099731100984326150"
          }
        }
      },
      "cell_type": "code",
      "source": [
        "\"\"\"Convolution Layer in Keras\n",
        "   accepts input as 3d - height, width, depth(RGB channels).\n",
        "   Since we do not have depth in text, we can convert it to a vector\n",
        "   with a depth = 1\"\"\"\n",
        "\n",
        "X = X.reshape(X.shape[0], 1, 20, 100)\n",
        "print X.shape\n",
        "print Y.shape\n",
        "num_classes = Y.shape[1]\n",
        "print num_classes"
      ],
      "execution_count": 7,
      "outputs": [
        {
          "output_type": "stream",
          "text": [
            "(18735, 1, 20, 100)\n",
            "(18735, 9)\n",
            "9\n"
          ],
          "name": "stdout"
        }
      ]
    },
    {
      "metadata": {
        "id": "U2Q-k_TAzbFG",
        "colab_type": "code",
        "colab": {
          "autoexec": {
            "startup": false,
            "wait_interval": 0
          }
        }
      },
      "cell_type": "code",
      "source": [
        "model = Sequential()\n",
        "model.add(Conv2D(50, (5, 5), input_shape=(1, 20, 100), activation='relu', padding=\"same\"))\n",
        "model.add(MaxPooling2D(pool_size=(2, 2)))\n",
        "\n",
        "model.add(Conv2D(30, (3, 3), activation='relu', padding=\"same\"))\n",
        "#model.add(MaxPooling2D(pool_size=(2, 2)))\n",
        "\n",
        "model.add(Conv2D(15, (3, 3), activation='relu', padding=\"same\"))\n",
        "model.add(MaxPooling2D(pool_size=(2, 2)))\n",
        "model.add(Dropout(0.5))\n",
        "\n",
        "\n",
        "model.add(Flatten())\n",
        "model.add(Dense(128, activation='relu'))\n",
        "model.add(Dense(50, activation='relu'))\n",
        "model.add(Dense(num_classes, activation='softmax'))\n",
        "# Compile model\n",
        "model.compile(loss='categorical_crossentropy', optimizer='adam', metrics=['accuracy'])"
      ],
      "execution_count": 0,
      "outputs": []
    },
    {
      "metadata": {
        "id": "nqG8Aeztzeft",
        "colab_type": "code",
        "colab": {
          "autoexec": {
            "startup": false,
            "wait_interval": 0
          },
          "output_extras": [
            {
              "item_id": 1
            }
          ],
          "base_uri": "https://localhost:8080/",
          "height": 476
        },
        "outputId": "036cad92-eae5-4193-90ca-9feeda601161",
        "executionInfo": {
          "status": "ok",
          "timestamp": 1520129935597,
          "user_tz": 300,
          "elapsed": 382,
          "user": {
            "displayName": "Manoj Joshi",
            "photoUrl": "https://lh3.googleusercontent.com/a/default-user=s128",
            "userId": "112099731100984326150"
          }
        }
      },
      "cell_type": "code",
      "source": [
        "model.summary()"
      ],
      "execution_count": 9,
      "outputs": [
        {
          "output_type": "stream",
          "text": [
            "_________________________________________________________________\n",
            "Layer (type)                 Output Shape              Param #   \n",
            "=================================================================\n",
            "conv2d_1 (Conv2D)            (None, 50, 20, 100)       1300      \n",
            "_________________________________________________________________\n",
            "max_pooling2d_1 (MaxPooling2 (None, 50, 10, 50)        0         \n",
            "_________________________________________________________________\n",
            "conv2d_2 (Conv2D)            (None, 30, 10, 50)        13530     \n",
            "_________________________________________________________________\n",
            "conv2d_3 (Conv2D)            (None, 15, 10, 50)        4065      \n",
            "_________________________________________________________________\n",
            "max_pooling2d_2 (MaxPooling2 (None, 15, 5, 25)         0         \n",
            "_________________________________________________________________\n",
            "dropout_1 (Dropout)          (None, 15, 5, 25)         0         \n",
            "_________________________________________________________________\n",
            "flatten_1 (Flatten)          (None, 1875)              0         \n",
            "_________________________________________________________________\n",
            "dense_1 (Dense)              (None, 128)               240128    \n",
            "_________________________________________________________________\n",
            "dense_2 (Dense)              (None, 50)                6450      \n",
            "_________________________________________________________________\n",
            "dense_3 (Dense)              (None, 9)                 459       \n",
            "=================================================================\n",
            "Total params: 265,932\n",
            "Trainable params: 265,932\n",
            "Non-trainable params: 0\n",
            "_________________________________________________________________\n"
          ],
          "name": "stdout"
        }
      ]
    },
    {
      "metadata": {
        "id": "ZMnN8NpjzgcE",
        "colab_type": "code",
        "colab": {
          "autoexec": {
            "startup": false,
            "wait_interval": 0
          },
          "output_extras": [
            {
              "item_id": 29
            },
            {
              "item_id": 30
            }
          ],
          "base_uri": "https://localhost:8080/",
          "height": 119
        },
        "outputId": "60082cbb-4bda-4834-89ca-9796a9efabe7",
        "executionInfo": {
          "status": "ok",
          "timestamp": 1520129955889,
          "user_tz": 300,
          "elapsed": 9851,
          "user": {
            "displayName": "Manoj Joshi",
            "photoUrl": "https://lh3.googleusercontent.com/a/default-user=s128",
            "userId": "112099731100984326150"
          }
        }
      },
      "cell_type": "code",
      "source": [
        "file_path=\"CNN_val_loss.hdf5\"\n",
        "checkpoint = ModelCheckpoint(file_path, monitor='val_loss', verbose=1, save_best_only=True, mode='min')\n",
        "early = EarlyStopping(monitor=\"val_loss\", mode=\"min\", patience=20)\n",
        "callbacks_list = [checkpoint, early] #early\n",
        "model.fit(X, Y, validation_split=0.1, callbacks=callbacks_list, epochs=1, batch_size= 32)"
      ],
      "execution_count": 10,
      "outputs": [
        {
          "output_type": "stream",
          "text": [
            "Train on 16861 samples, validate on 1874 samples\n",
            "Epoch 1/1\n",
            "16861/16861 [==============================] - 9s 534us/step - loss: 1.6297 - acc: 0.4475 - val_loss: 2.6635 - val_acc: 0.0464\n",
            "\n",
            "Epoch 00001: val_loss improved from inf to 2.66350, saving model to CNN_val_loss.hdf5\n"
          ],
          "name": "stdout"
        },
        {
          "output_type": "execute_result",
          "data": {
            "text/plain": [
              "<keras.callbacks.History at 0x7f4b7667e590>"
            ]
          },
          "metadata": {
            "tags": []
          },
          "execution_count": 10
        }
      ]
    },
    {
      "metadata": {
        "id": "SXZUxbO2zjFM",
        "colab_type": "code",
        "colab": {
          "autoexec": {
            "startup": false,
            "wait_interval": 0
          }
        }
      },
      "cell_type": "code",
      "source": [
        "model = load_model(file_path)"
      ],
      "execution_count": 0,
      "outputs": []
    },
    {
      "metadata": {
        "id": "5GLPqC2jznII",
        "colab_type": "code",
        "colab": {
          "autoexec": {
            "startup": false,
            "wait_interval": 0
          },
          "output_extras": [
            {
              "item_id": 75
            },
            {
              "item_id": 146
            },
            {
              "item_id": 229
            },
            {
              "item_id": 314
            },
            {
              "item_id": 396
            },
            {
              "item_id": 472
            },
            {
              "item_id": 543
            },
            {
              "item_id": 573
            },
            {
              "item_id": 574
            }
          ],
          "base_uri": "https://localhost:8080/",
          "height": 1431
        },
        "outputId": "1ca93c67-1f0e-497f-f940-198987bc6d8d",
        "executionInfo": {
          "status": "ok",
          "timestamp": 1520130265850,
          "user_tz": 300,
          "elapsed": 146566,
          "user": {
            "displayName": "Manoj Joshi",
            "photoUrl": "https://lh3.googleusercontent.com/a/default-user=s128",
            "userId": "112099731100984326150"
          }
        }
      },
      "cell_type": "code",
      "source": [
        "model.fit(X, Y, validation_split=0.1, callbacks=callbacks_list, epochs=20, batch_size= 32)"
      ],
      "execution_count": 19,
      "outputs": [
        {
          "output_type": "stream",
          "text": [
            "Train on 16861 samples, validate on 1874 samples\n",
            "Epoch 1/20\n",
            "16861/16861 [==============================] - 7s 443us/step - loss: 0.3195 - acc: 0.8927 - val_loss: 0.6146 - val_acc: 0.8303\n",
            "\n",
            "Epoch 00001: val_loss did not improve\n",
            "Epoch 2/20\n",
            "16861/16861 [==============================] - 7s 430us/step - loss: 0.3119 - acc: 0.8951 - val_loss: 0.4118 - val_acc: 0.8789\n",
            "\n",
            "Epoch 00002: val_loss improved from 0.47445 to 0.41183, saving model to CNN_val_loss.hdf5\n",
            "Epoch 3/20\n",
            " 9664/16861 [================>.............] - ETA: 2s - loss: 0.2901 - acc: 0.9036"
          ],
          "name": "stdout"
        },
        {
          "output_type": "stream",
          "text": [
            "16861/16861 [==============================] - 7s 424us/step - loss: 0.2893 - acc: 0.9045 - val_loss: 0.5142 - val_acc: 0.8623\n",
            "\n",
            "Epoch 00003: val_loss did not improve\n",
            "Epoch 4/20\n",
            "16861/16861 [==============================] - 7s 427us/step - loss: 0.2917 - acc: 0.9050 - val_loss: 0.8128 - val_acc: 0.7647\n",
            "\n",
            "Epoch 00004: val_loss did not improve\n",
            "Epoch 5/20\n",
            "16861/16861 [==============================] - 7s 427us/step - loss: 0.2831 - acc: 0.9062 - val_loss: 0.7712 - val_acc: 0.7791\n",
            "\n",
            "Epoch 00005: val_loss did not improve\n",
            "Epoch 6/20\n",
            " 1056/16861 [>.............................] - ETA: 6s - loss: 0.2740 - acc: 0.8996"
          ],
          "name": "stdout"
        },
        {
          "output_type": "stream",
          "text": [
            "16861/16861 [==============================] - 7s 428us/step - loss: 0.2559 - acc: 0.9166 - val_loss: 0.4459 - val_acc: 0.8645\n",
            "\n",
            "Epoch 00006: val_loss did not improve\n",
            "Epoch 7/20\n",
            "16861/16861 [==============================] - 7s 428us/step - loss: 0.2596 - acc: 0.9146 - val_loss: 0.6383 - val_acc: 0.8346\n",
            "\n",
            "Epoch 00007: val_loss did not improve\n",
            "Epoch 8/20\n",
            "16861/16861 [==============================] - 7s 428us/step - loss: 0.2445 - acc: 0.9190 - val_loss: 0.6644 - val_acc: 0.8234\n",
            "\n",
            "Epoch 00008: val_loss did not improve\n",
            "Epoch 9/20\n",
            "   32/16861 [..............................] - ETA: 10s - loss: 0.5436 - acc: 0.7188"
          ],
          "name": "stdout"
        },
        {
          "output_type": "stream",
          "text": [
            "16861/16861 [==============================] - 7s 428us/step - loss: 0.2378 - acc: 0.9206 - val_loss: 0.4479 - val_acc: 0.8773\n",
            "\n",
            "Epoch 00009: val_loss did not improve\n",
            "Epoch 10/20\n",
            "16861/16861 [==============================] - 7s 418us/step - loss: 0.2327 - acc: 0.9219 - val_loss: 0.5244 - val_acc: 0.8554\n",
            "\n",
            "Epoch 00010: val_loss did not improve\n",
            "Epoch 11/20\n",
            "16861/16861 [==============================] - 7s 423us/step - loss: 0.2313 - acc: 0.9221 - val_loss: 0.3821 - val_acc: 0.8954\n",
            "\n",
            "Epoch 00011: val_loss improved from 0.41183 to 0.38213, saving model to CNN_val_loss.hdf5\n",
            "Epoch 12/20\n",
            "   32/16861 [..............................] - ETA: 7s - loss: 0.1360 - acc: 0.9688"
          ],
          "name": "stdout"
        },
        {
          "output_type": "stream",
          "text": [
            "16861/16861 [==============================] - 7s 416us/step - loss: 0.2263 - acc: 0.9254 - val_loss: 0.6212 - val_acc: 0.8415\n",
            "\n",
            "Epoch 00012: val_loss did not improve\n",
            "Epoch 13/20\n",
            "16861/16861 [==============================] - 7s 420us/step - loss: 0.2184 - acc: 0.9294 - val_loss: 0.7354 - val_acc: 0.8170\n",
            "\n",
            "Epoch 00013: val_loss did not improve\n",
            "Epoch 14/20\n",
            "16861/16861 [==============================] - 7s 430us/step - loss: 0.2122 - acc: 0.9303 - val_loss: 0.6828 - val_acc: 0.8212\n"
          ],
          "name": "stdout"
        },
        {
          "output_type": "stream",
          "text": [
            "\n",
            "Epoch 00014: val_loss did not improve\n",
            "Epoch 15/20\n",
            "16861/16861 [==============================] - 7s 439us/step - loss: 0.2002 - acc: 0.9341 - val_loss: 0.4241 - val_acc: 0.8965\n",
            "\n",
            "Epoch 00015: val_loss did not improve\n",
            "Epoch 16/20\n",
            "16861/16861 [==============================] - 7s 430us/step - loss: 0.2127 - acc: 0.9288 - val_loss: 0.5237 - val_acc: 0.8687\n",
            "\n",
            "Epoch 00016: val_loss did not improve\n",
            "Epoch 17/20\n",
            "10880/16861 [==================>...........] - ETA: 2s - loss: 0.2062 - acc: 0.9310"
          ],
          "name": "stdout"
        },
        {
          "output_type": "stream",
          "text": [
            "16861/16861 [==============================] - 8s 448us/step - loss: 0.2136 - acc: 0.9288 - val_loss: 0.4310 - val_acc: 0.8959\n",
            "\n",
            "Epoch 00017: val_loss did not improve\n",
            "Epoch 18/20\n",
            "16861/16861 [==============================] - 8s 446us/step - loss: 0.2002 - acc: 0.9362 - val_loss: 0.5924 - val_acc: 0.8538\n",
            "\n",
            "Epoch 00018: val_loss did not improve\n",
            "Epoch 19/20\n",
            "16861/16861 [==============================] - 8s 451us/step - loss: 0.1995 - acc: 0.9335 - val_loss: 0.3816 - val_acc: 0.9029\n",
            "\n",
            "Epoch 00019: val_loss improved from 0.38213 to 0.38164, saving model to CNN_val_loss.hdf5\n",
            "Epoch 20/20\n",
            "  416/16861 [..............................] - ETA: 7s - loss: 0.2093 - acc: 0.9351"
          ],
          "name": "stdout"
        },
        {
          "output_type": "stream",
          "text": [
            "16861/16861 [==============================] - 8s 462us/step - loss: 0.1866 - acc: 0.9391 - val_loss: 0.4562 - val_acc: 0.8965\n",
            "\n",
            "Epoch 00020: val_loss did not improve\n"
          ],
          "name": "stdout"
        },
        {
          "output_type": "execute_result",
          "data": {
            "text/plain": [
              "<keras.callbacks.History at 0x7f4b6f514090>"
            ]
          },
          "metadata": {
            "tags": []
          },
          "execution_count": 19
        }
      ]
    },
    {
      "metadata": {
        "id": "COdjL_7zzq_U",
        "colab_type": "code",
        "colab": {
          "autoexec": {
            "startup": false,
            "wait_interval": 0
          }
        }
      },
      "cell_type": "code",
      "source": [
        "model = load_model(file_path)"
      ],
      "execution_count": 0,
      "outputs": []
    },
    {
      "metadata": {
        "id": "ZVznz_FS0Bwg",
        "colab_type": "code",
        "colab": {
          "autoexec": {
            "startup": false,
            "wait_interval": 0
          }
        }
      },
      "cell_type": "code",
      "source": [
        "predicted = model.predict(X)"
      ],
      "execution_count": 0,
      "outputs": []
    },
    {
      "metadata": {
        "id": "ZPF912IT0Dku",
        "colab_type": "code",
        "colab": {
          "autoexec": {
            "startup": false,
            "wait_interval": 0
          }
        }
      },
      "cell_type": "code",
      "source": [
        "from sklearn import metrics"
      ],
      "execution_count": 0,
      "outputs": []
    },
    {
      "metadata": {
        "id": "uUCDpZ6p0Fmm",
        "colab_type": "code",
        "colab": {
          "autoexec": {
            "startup": false,
            "wait_interval": 0
          },
          "output_extras": [
            {
              "item_id": 1
            }
          ],
          "base_uri": "https://localhost:8080/",
          "height": 34
        },
        "outputId": "692e648f-0d2f-440d-c3cd-aab0a3edf2f3",
        "executionInfo": {
          "status": "ok",
          "timestamp": 1520130454385,
          "user_tz": 300,
          "elapsed": 260,
          "user": {
            "displayName": "Manoj Joshi",
            "photoUrl": "https://lh3.googleusercontent.com/a/default-user=s128",
            "userId": "112099731100984326150"
          }
        }
      },
      "cell_type": "code",
      "source": [
        "metrics.log_loss(Y, predicted)"
      ],
      "execution_count": 23,
      "outputs": [
        {
          "output_type": "execute_result",
          "data": {
            "text/plain": [
              "0.09585370831917868"
            ]
          },
          "metadata": {
            "tags": []
          },
          "execution_count": 23
        }
      ]
    },
    {
      "metadata": {
        "id": "hEXl4nhQ0HDa",
        "colab_type": "code",
        "colab": {
          "autoexec": {
            "startup": false,
            "wait_interval": 0
          }
        }
      },
      "cell_type": "code",
      "source": [
        ""
      ],
      "execution_count": 0,
      "outputs": []
    }
  ]
}