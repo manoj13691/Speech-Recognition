{
  "nbformat": 4,
  "nbformat_minor": 0,
  "metadata": {
    "colab": {
      "name": "CNN_v4.ipynb",
      "version": "0.3.2",
      "views": {},
      "default_view": {},
      "provenance": [],
      "collapsed_sections": []
    },
    "kernelspec": {
      "display_name": "Python 2",
      "language": "python",
      "name": "python2"
    },
    "accelerator": "GPU"
  },
  "cells": [
    {
      "metadata": {
        "id": "cXKKkndwyqAG",
        "colab_type": "code",
        "colab": {
          "autoexec": {
            "startup": false,
            "wait_interval": 0
          },
          "output_extras": [
            {
              "item_id": 6
            }
          ],
          "base_uri": "https://localhost:8080/",
          "height": 238
        },
        "outputId": "ff1d291f-5b9d-4976-ccc9-97facfb75251",
        "executionInfo": {
          "status": "ok",
          "timestamp": 1520210391169,
          "user_tz": 300,
          "elapsed": 3352,
          "user": {
            "displayName": "Manoj Joshi",
            "photoUrl": "https://lh3.googleusercontent.com/a/default-user=s128",
            "userId": "112099731100984326150"
          }
        }
      },
      "cell_type": "code",
      "source": [
        "!pip install googledrivedownloader\n",
        "!pip install keras"
      ],
      "execution_count": 1,
      "outputs": [
        {
          "output_type": "stream",
          "text": [
            "Collecting googledrivedownloader\n",
            "  Downloading googledrivedownloader-0.3-py2.py3-none-any.whl\n",
            "Installing collected packages: googledrivedownloader\n",
            "Successfully installed googledrivedownloader-0.3\n",
            "Collecting keras\n",
            "  Downloading Keras-2.1.4-py2.py3-none-any.whl (322kB)\n",
            "\u001b[K    100% |████████████████████████████████| 327kB 2.1MB/s \n",
            "\u001b[?25hRequirement already satisfied: pyyaml in /usr/local/lib/python2.7/dist-packages (from keras)\n",
            "Requirement already satisfied: six>=1.9.0 in /usr/local/lib/python2.7/dist-packages (from keras)\n",
            "Requirement already satisfied: numpy>=1.9.1 in /usr/local/lib/python2.7/dist-packages (from keras)\n",
            "Requirement already satisfied: scipy>=0.14 in /usr/local/lib/python2.7/dist-packages (from keras)\n",
            "Installing collected packages: keras\n",
            "Successfully installed keras-2.1.4\n"
          ],
          "name": "stdout"
        }
      ]
    },
    {
      "metadata": {
        "id": "q4EhGAUayus6",
        "colab_type": "code",
        "colab": {
          "autoexec": {
            "startup": false,
            "wait_interval": 0
          },
          "output_extras": [
            {
              "item_id": 10
            }
          ],
          "base_uri": "https://localhost:8080/",
          "height": 170
        },
        "outputId": "d5772bab-e0fe-4e89-ac91-a1579ec5f392",
        "executionInfo": {
          "status": "ok",
          "timestamp": 1520210401817,
          "user_tz": 300,
          "elapsed": 10154,
          "user": {
            "displayName": "Manoj Joshi",
            "photoUrl": "https://lh3.googleusercontent.com/a/default-user=s128",
            "userId": "112099731100984326150"
          }
        }
      },
      "cell_type": "code",
      "source": [
        "from google_drive_downloader import GoogleDriveDownloader as gdd\n",
        "\n",
        "ids =[\"1o4FNPEsiJyTAkexCzR1P85WgaODJZTMs\",\"1yiP1nS5bCKHYto0Px3f_BOUbyJJVdKRO\",\n",
        "\"1f3wDVtDq1oedLJ0Hidn2gduttRacAtoD\", \"1Svv2H8HgF-gyE3GgHJ4Kgcpb7_l88tBl\",\n",
        "\"1aJQwc58seuB4tyIV3tZCFQBbSsI0CAVJ\", \"1Q77JWfZLXc_BmFoj0rQoIojvtloTkk2f\",\n",
        "\"1bYFaYWfmmAgfj4hyEQXSsY_PrMt9YF0l\", \"1ZKhkmCHBFrrocGhmAG55Wgkd-ewZmd9l\",\n",
        "\"1Z7FiOG8iTfUBnogZw8SQOPd1NDjQ79CO\"]\n",
        "\n",
        "file_names = [\"bed.pkl\",\"bird.pkl\", \"cat.pkl\", \"dog.pkl\", \"down.pkl\", \"eight.pkl\", \"five.pkl\", \"four.pkl\", \"go.pkl\"]\n",
        "for i in range(len(ids)):\n",
        "  a = gdd.download_file_from_google_drive(file_id= ids[i],\n",
        "                                      dest_path=\"./\"+file_names[i],\n",
        "                                      unzip=False)"
      ],
      "execution_count": 2,
      "outputs": [
        {
          "output_type": "stream",
          "text": [
            "Downloading 1o4FNPEsiJyTAkexCzR1P85WgaODJZTMs into ./bed.pkl... Done.\n",
            "Downloading 1yiP1nS5bCKHYto0Px3f_BOUbyJJVdKRO into ./bird.pkl... Done.\n",
            "Downloading 1f3wDVtDq1oedLJ0Hidn2gduttRacAtoD into ./cat.pkl... Done.\n",
            "Downloading 1Svv2H8HgF-gyE3GgHJ4Kgcpb7_l88tBl into ./dog.pkl... Done.\n",
            "Downloading 1aJQwc58seuB4tyIV3tZCFQBbSsI0CAVJ into ./down.pkl... Done.\n",
            "Downloading 1Q77JWfZLXc_BmFoj0rQoIojvtloTkk2f into ./eight.pkl... Done.\n",
            "Downloading 1bYFaYWfmmAgfj4hyEQXSsY_PrMt9YF0l into ./five.pkl... Done.\n",
            "Downloading 1ZKhkmCHBFrrocGhmAG55Wgkd-ewZmd9l into ./four.pkl... Done.\n",
            "Downloading 1Z7FiOG8iTfUBnogZw8SQOPd1NDjQ79CO into ./go.pkl... Done.\n"
          ],
          "name": "stdout"
        }
      ]
    },
    {
      "metadata": {
        "id": "htsmTCK5zA8e",
        "colab_type": "code",
        "colab": {
          "autoexec": {
            "startup": false,
            "wait_interval": 0
          },
          "output_extras": [
            {
              "item_id": 1
            }
          ],
          "base_uri": "https://localhost:8080/",
          "height": 34
        },
        "outputId": "7432ec27-25b2-4390-ae7b-64bbd9d5b4e2",
        "executionInfo": {
          "status": "ok",
          "timestamp": 1520210409657,
          "user_tz": 300,
          "elapsed": 7088,
          "user": {
            "displayName": "Manoj Joshi",
            "photoUrl": "https://lh3.googleusercontent.com/a/default-user=s128",
            "userId": "112099731100984326150"
          }
        }
      },
      "cell_type": "code",
      "source": [
        "import numpy as np\n",
        "from keras.models import Sequential\n",
        "from keras.layers import Dense\n",
        "from keras.layers import Dropout\n",
        "from keras.layers import Flatten, BatchNormalization\n",
        "from keras.layers.convolutional import Conv2D\n",
        "from keras.layers.convolutional import MaxPooling2D\n",
        "from keras.utils import np_utils\n",
        "from keras.utils import to_categorical\n",
        "from sklearn.preprocessing import LabelEncoder\n",
        "from sklearn.preprocessing import OneHotEncoder\n",
        "from keras import backend as K\n",
        "from keras.models import load_model\n",
        "from keras.callbacks import EarlyStopping, ModelCheckpoint\n",
        "K.set_image_dim_ordering('th')\n",
        "import pickle"
      ],
      "execution_count": 3,
      "outputs": [
        {
          "output_type": "stream",
          "text": [
            "Using TensorFlow backend.\n"
          ],
          "name": "stderr"
        }
      ]
    },
    {
      "metadata": {
        "id": "djarUI1IzLlr",
        "colab_type": "code",
        "colab": {
          "autoexec": {
            "startup": false,
            "wait_interval": 0
          }
        }
      },
      "cell_type": "code",
      "source": [
        "\"\"\"words list represents the \"pkl\" file names\n",
        "    which have the same word as .wav file.\n",
        "    The pkl file is dictionary with key as the word spoken\n",
        "    and the value as numpy array where element is a (20 * 100) vector\n",
        "    representing the mfcc vectors of the .wav file. \"\"\"\n",
        "\n",
        "words = [\"bed\", \"down\", \"dog\", \"eight\", \"four\", \"cat\",\"go\",\"bird\",\"five\"]\n",
        "#words = [\"bed\", \"down\", \"dog\"]"
      ],
      "execution_count": 0,
      "outputs": []
    },
    {
      "metadata": {
        "id": "EpA5WgaozRJl",
        "colab_type": "code",
        "colab": {
          "autoexec": {
            "startup": false,
            "wait_interval": 0
          },
          "output_extras": [
            {
              "item_id": 1
            }
          ],
          "base_uri": "https://localhost:8080/",
          "height": 170
        },
        "outputId": "37999080-3cb9-43ba-e578-91e04dde218e",
        "executionInfo": {
          "status": "ok",
          "timestamp": 1520210421904,
          "user_tz": 300,
          "elapsed": 8335,
          "user": {
            "displayName": "Manoj Joshi",
            "photoUrl": "https://lh3.googleusercontent.com/a/default-user=s128",
            "userId": "112099731100984326150"
          }
        }
      },
      "cell_type": "code",
      "source": [
        "data = pickle.load( open( words[0]+\".pkl\", \"rb\" ) )\n",
        "for keys in data:\n",
        "    X = data[keys]\n",
        "    Y = np.array([[keys]] * data[keys].shape[0])\n",
        "    #print X_1.shape\n",
        "    \n",
        "    \n",
        "for i in range(1,len(words)):\n",
        "    data = pickle.load( open( words[i]+\".pkl\", \"rb\" ) )\n",
        "    for keys in data:\n",
        "        Y = np.append(Y, [[keys]] * data[keys].shape[0], axis = 0)\n",
        "        X = np.append(X, data[keys], axis = 0)\n",
        "        #print X_1.shape\n",
        "        \n",
        "print X.shape\n",
        "print Y.shape\n",
        "print Y"
      ],
      "execution_count": 5,
      "outputs": [
        {
          "output_type": "stream",
          "text": [
            "(18735, 20, 100)\n",
            "(18735, 1)\n",
            "[['bed']\n",
            " ['bed']\n",
            " ['bed']\n",
            " ...\n",
            " ['five']\n",
            " ['five']\n",
            " ['five']]\n"
          ],
          "name": "stdout"
        }
      ]
    },
    {
      "metadata": {
        "id": "jv44rDtFzTUi",
        "colab_type": "code",
        "colab": {
          "autoexec": {
            "startup": false,
            "wait_interval": 0
          },
          "output_extras": [
            {
              "item_id": 1
            }
          ],
          "base_uri": "https://localhost:8080/",
          "height": 71
        },
        "outputId": "0fb81fc6-81c0-4ccb-e7b0-3091050a63a9",
        "executionInfo": {
          "status": "ok",
          "timestamp": 1520210423899,
          "user_tz": 300,
          "elapsed": 319,
          "user": {
            "displayName": "Manoj Joshi",
            "photoUrl": "https://lh3.googleusercontent.com/a/default-user=s128",
            "userId": "112099731100984326150"
          }
        }
      },
      "cell_type": "code",
      "source": [
        "label_encoder = LabelEncoder()\n",
        "integer_encoded = label_encoder.fit_transform(Y)\n",
        "#print integer_encoded\n",
        "onehot_encoder = OneHotEncoder(sparse=False)\n",
        "integer_encoded = integer_encoded.reshape(len(integer_encoded), 1)\n",
        "onehot_encoded = onehot_encoder.fit_transform(integer_encoded)\n",
        "Y = onehot_encoded"
      ],
      "execution_count": 6,
      "outputs": [
        {
          "output_type": "stream",
          "text": [
            "/usr/local/lib/python2.7/dist-packages/sklearn/preprocessing/label.py:111: DataConversionWarning: A column-vector y was passed when a 1d array was expected. Please change the shape of y to (n_samples, ), for example using ravel().\n",
            "  y = column_or_1d(y, warn=True)\n"
          ],
          "name": "stderr"
        }
      ]
    },
    {
      "metadata": {
        "id": "KwWrtPyuzYCC",
        "colab_type": "code",
        "colab": {
          "autoexec": {
            "startup": false,
            "wait_interval": 0
          },
          "output_extras": [
            {
              "item_id": 1
            }
          ],
          "base_uri": "https://localhost:8080/",
          "height": 68
        },
        "outputId": "731bdf7e-e033-4831-d69c-54b83288d26c",
        "executionInfo": {
          "status": "ok",
          "timestamp": 1520210427130,
          "user_tz": 300,
          "elapsed": 364,
          "user": {
            "displayName": "Manoj Joshi",
            "photoUrl": "https://lh3.googleusercontent.com/a/default-user=s128",
            "userId": "112099731100984326150"
          }
        }
      },
      "cell_type": "code",
      "source": [
        "\"\"\"Convolution Layer in Keras\n",
        "   accepts input as 3d - height, width, depth(RGB channels).\n",
        "   Since we do not have depth in text, we can convert it to a vector\n",
        "   with a depth = 1\"\"\"\n",
        "\n",
        "X = X.reshape(X.shape[0], 1, 20, 100)\n",
        "print X.shape\n",
        "print Y.shape\n",
        "num_classes = Y.shape[1]\n",
        "print num_classes"
      ],
      "execution_count": 7,
      "outputs": [
        {
          "output_type": "stream",
          "text": [
            "(18735, 1, 20, 100)\n",
            "(18735, 9)\n",
            "9\n"
          ],
          "name": "stdout"
        }
      ]
    },
    {
      "metadata": {
        "id": "U2Q-k_TAzbFG",
        "colab_type": "code",
        "colab": {
          "autoexec": {
            "startup": false,
            "wait_interval": 0
          }
        }
      },
      "cell_type": "code",
      "source": [
        "model = Sequential()\n",
        "model.add(Conv2D(50, (5, 5), input_shape=(1, 20, 100), activation='relu', padding=\"same\"))\n",
        "model.add(BatchNormalization())\n",
        "model.add(MaxPooling2D(pool_size=(2, 2)))\n",
        "\n",
        "model.add(Conv2D(30, (3, 3), activation='relu', padding=\"same\"))\n",
        "model.add(BatchNormalization())\n",
        "#model.add(MaxPooling2D(pool_size=(2, 2)))\n",
        "\n",
        "model.add(Conv2D(15, (3, 3), activation='relu', padding=\"same\"))\n",
        "model.add(BatchNormalization())\n",
        "model.add(MaxPooling2D(pool_size=(2, 2)))\n",
        "model.add(Dropout(0.5))\n",
        "\n",
        "\n",
        "model.add(Flatten())\n",
        "model.add(Dense(128, activation='relu'))\n",
        "model.add(Dense(50, activation='relu'))\n",
        "model.add(Dense(num_classes, activation='softmax'))\n",
        "# Compile model\n",
        "model.compile(loss='categorical_crossentropy', optimizer='adam', metrics=['accuracy'])"
      ],
      "execution_count": 0,
      "outputs": []
    },
    {
      "metadata": {
        "id": "nqG8Aeztzeft",
        "colab_type": "code",
        "colab": {
          "autoexec": {
            "startup": false,
            "wait_interval": 0
          },
          "output_extras": [
            {
              "item_id": 1
            }
          ],
          "base_uri": "https://localhost:8080/",
          "height": 578
        },
        "outputId": "79ea0554-ed1d-4002-e925-f891964732f4",
        "executionInfo": {
          "status": "ok",
          "timestamp": 1520210434255,
          "user_tz": 300,
          "elapsed": 403,
          "user": {
            "displayName": "Manoj Joshi",
            "photoUrl": "https://lh3.googleusercontent.com/a/default-user=s128",
            "userId": "112099731100984326150"
          }
        }
      },
      "cell_type": "code",
      "source": [
        "model.summary()"
      ],
      "execution_count": 9,
      "outputs": [
        {
          "output_type": "stream",
          "text": [
            "_________________________________________________________________\n",
            "Layer (type)                 Output Shape              Param #   \n",
            "=================================================================\n",
            "conv2d_1 (Conv2D)            (None, 50, 20, 100)       1300      \n",
            "_________________________________________________________________\n",
            "batch_normalization_1 (Batch (None, 50, 20, 100)       400       \n",
            "_________________________________________________________________\n",
            "max_pooling2d_1 (MaxPooling2 (None, 50, 10, 50)        0         \n",
            "_________________________________________________________________\n",
            "conv2d_2 (Conv2D)            (None, 30, 10, 50)        13530     \n",
            "_________________________________________________________________\n",
            "batch_normalization_2 (Batch (None, 30, 10, 50)        200       \n",
            "_________________________________________________________________\n",
            "conv2d_3 (Conv2D)            (None, 15, 10, 50)        4065      \n",
            "_________________________________________________________________\n",
            "batch_normalization_3 (Batch (None, 15, 10, 50)        200       \n",
            "_________________________________________________________________\n",
            "max_pooling2d_2 (MaxPooling2 (None, 15, 5, 25)         0         \n",
            "_________________________________________________________________\n",
            "dropout_1 (Dropout)          (None, 15, 5, 25)         0         \n",
            "_________________________________________________________________\n",
            "flatten_1 (Flatten)          (None, 1875)              0         \n",
            "_________________________________________________________________\n",
            "dense_1 (Dense)              (None, 128)               240128    \n",
            "_________________________________________________________________\n",
            "dense_2 (Dense)              (None, 50)                6450      \n",
            "_________________________________________________________________\n",
            "dense_3 (Dense)              (None, 9)                 459       \n",
            "=================================================================\n",
            "Total params: 266,732\n",
            "Trainable params: 266,332\n",
            "Non-trainable params: 400\n",
            "_________________________________________________________________\n"
          ],
          "name": "stdout"
        }
      ]
    },
    {
      "metadata": {
        "id": "ZMnN8NpjzgcE",
        "colab_type": "code",
        "colab": {
          "autoexec": {
            "startup": false,
            "wait_interval": 0
          },
          "output_extras": [
            {
              "item_id": 44
            },
            {
              "item_id": 45
            }
          ],
          "base_uri": "https://localhost:8080/",
          "height": 119
        },
        "outputId": "06da574c-f8c6-40d9-f4e8-20ce759a3190",
        "executionInfo": {
          "status": "ok",
          "timestamp": 1520210455250,
          "user_tz": 300,
          "elapsed": 13663,
          "user": {
            "displayName": "Manoj Joshi",
            "photoUrl": "https://lh3.googleusercontent.com/a/default-user=s128",
            "userId": "112099731100984326150"
          }
        }
      },
      "cell_type": "code",
      "source": [
        "file_path=\"CNN_v4_val_loss.hdf5\"\n",
        "checkpoint = ModelCheckpoint(file_path, monitor='val_loss', verbose=1, save_best_only=True, mode='min')\n",
        "early = EarlyStopping(monitor=\"val_loss\", mode=\"min\", patience=20)\n",
        "callbacks_list = [checkpoint, early] #early\n",
        "model.fit(X, Y, validation_split=0.1, callbacks=callbacks_list, epochs=1, batch_size= 32)"
      ],
      "execution_count": 10,
      "outputs": [
        {
          "output_type": "stream",
          "text": [
            "Train on 16861 samples, validate on 1874 samples\n",
            "Epoch 1/1\n",
            "16861/16861 [==============================] - 13s 753us/step - loss: 1.5056 - acc: 0.4504 - val_loss: 3.2292 - val_acc: 0.0390\n",
            "\n",
            "Epoch 00001: val_loss improved from inf to 3.22918, saving model to CNN_v4_val_loss.hdf5\n"
          ],
          "name": "stdout"
        },
        {
          "output_type": "execute_result",
          "data": {
            "text/plain": [
              "<keras.callbacks.History at 0x7f1ae43bb590>"
            ]
          },
          "metadata": {
            "tags": []
          },
          "execution_count": 10
        }
      ]
    },
    {
      "metadata": {
        "id": "SXZUxbO2zjFM",
        "colab_type": "code",
        "colab": {
          "autoexec": {
            "startup": false,
            "wait_interval": 0
          }
        }
      },
      "cell_type": "code",
      "source": [
        "model = load_model(file_path)"
      ],
      "execution_count": 0,
      "outputs": []
    },
    {
      "metadata": {
        "id": "5GLPqC2jznII",
        "colab_type": "code",
        "colab": {
          "autoexec": {
            "startup": false,
            "wait_interval": 0
          },
          "output_extras": [
            {
              "item_id": 94
            },
            {
              "item_id": 194
            },
            {
              "item_id": 257
            },
            {
              "item_id": 342
            },
            {
              "item_id": 421
            },
            {
              "item_id": 495
            },
            {
              "item_id": 579
            },
            {
              "item_id": 657
            },
            {
              "item_id": 739
            },
            {
              "item_id": 796
            },
            {
              "item_id": 797
            }
          ],
          "base_uri": "https://localhost:8080/",
          "height": 1431
        },
        "outputId": "698abf57-3d0c-43fe-cb9c-5fb40fd5269a",
        "executionInfo": {
          "status": "ok",
          "timestamp": 1520210673302,
          "user_tz": 300,
          "elapsed": 210139,
          "user": {
            "displayName": "Manoj Joshi",
            "photoUrl": "https://lh3.googleusercontent.com/a/default-user=s128",
            "userId": "112099731100984326150"
          }
        }
      },
      "cell_type": "code",
      "source": [
        "model.fit(X, Y, validation_split=0.1, callbacks=callbacks_list, epochs=20, batch_size= 32)"
      ],
      "execution_count": 12,
      "outputs": [
        {
          "output_type": "stream",
          "text": [
            "Train on 16861 samples, validate on 1874 samples\n",
            "Epoch 1/20\n",
            "16861/16861 [==============================] - 12s 708us/step - loss: 0.7257 - acc: 0.7547 - val_loss: 1.2424 - val_acc: 0.6110\n",
            "\n",
            "Epoch 00001: val_loss improved from 3.22918 to 1.24239, saving model to CNN_v4_val_loss.hdf5\n",
            "Epoch 2/20\n",
            "16861/16861 [==============================] - 11s 625us/step - loss: 0.5054 - acc: 0.8310 - val_loss: 0.6115 - val_acc: 0.8212\n",
            "\n",
            "Epoch 00002: val_loss improved from 1.24239 to 0.61145, saving model to CNN_v4_val_loss.hdf5\n",
            "Epoch 3/20\n",
            " 1088/16861 [>.............................] - ETA: 9s - loss: 0.4170 - acc: 0.8557"
          ],
          "name": "stdout"
        },
        {
          "output_type": "stream",
          "text": [
            "16861/16861 [==============================] - 10s 620us/step - loss: 0.4033 - acc: 0.8644 - val_loss: 0.6235 - val_acc: 0.8074\n",
            "\n",
            "Epoch 00003: val_loss did not improve\n",
            "Epoch 4/20\n",
            "16861/16861 [==============================] - 10s 615us/step - loss: 0.3419 - acc: 0.8851 - val_loss: 0.8383 - val_acc: 0.7417\n",
            "\n",
            "Epoch 00004: val_loss did not improve\n",
            "Epoch 5/20\n",
            " 8672/16861 [==============>...............] - ETA: 4s - loss: 0.2994 - acc: 0.8990"
          ],
          "name": "stdout"
        },
        {
          "output_type": "stream",
          "text": [
            "16861/16861 [==============================] - 10s 618us/step - loss: 0.2992 - acc: 0.8994 - val_loss: 0.8107 - val_acc: 0.7476\n",
            "\n",
            "Epoch 00005: val_loss did not improve\n",
            "Epoch 6/20\n",
            "16861/16861 [==============================] - 10s 610us/step - loss: 0.2721 - acc: 0.9091 - val_loss: 0.4074 - val_acc: 0.8757\n",
            "\n",
            "Epoch 00006: val_loss improved from 0.61145 to 0.40737, saving model to CNN_v4_val_loss.hdf5\n",
            "Epoch 7/20\n",
            " 8960/16861 [==============>...............] - ETA: 4s - loss: 0.2317 - acc: 0.9213"
          ],
          "name": "stdout"
        },
        {
          "output_type": "stream",
          "text": [
            "16861/16861 [==============================] - 10s 612us/step - loss: 0.2469 - acc: 0.9172 - val_loss: 0.4242 - val_acc: 0.8655\n",
            "\n",
            "Epoch 00007: val_loss did not improve\n",
            "Epoch 8/20\n",
            "16861/16861 [==============================] - 10s 618us/step - loss: 0.2216 - acc: 0.9242 - val_loss: 0.4416 - val_acc: 0.8714\n",
            "\n",
            "Epoch 00008: val_loss did not improve\n",
            "Epoch 9/20\n",
            "10112/16861 [================>.............] - ETA: 4s - loss: 0.2085 - acc: 0.9311"
          ],
          "name": "stdout"
        },
        {
          "output_type": "stream",
          "text": [
            "16861/16861 [==============================] - 10s 619us/step - loss: 0.2123 - acc: 0.9294 - val_loss: 0.4232 - val_acc: 0.8698\n",
            "\n",
            "Epoch 00009: val_loss did not improve\n",
            "Epoch 10/20\n",
            "16861/16861 [==============================] - 10s 619us/step - loss: 0.1936 - acc: 0.9361 - val_loss: 0.4005 - val_acc: 0.8858\n",
            "\n",
            "Epoch 00010: val_loss improved from 0.40737 to 0.40049, saving model to CNN_v4_val_loss.hdf5\n",
            "Epoch 11/20\n",
            " 9056/16861 [===============>..............] - ETA: 4s - loss: 0.1782 - acc: 0.9387"
          ],
          "name": "stdout"
        },
        {
          "output_type": "stream",
          "text": [
            "16861/16861 [==============================] - 10s 612us/step - loss: 0.1818 - acc: 0.9390 - val_loss: 0.6741 - val_acc: 0.8159\n",
            "\n",
            "Epoch 00011: val_loss did not improve\n",
            "Epoch 12/20\n",
            "16861/16861 [==============================] - 10s 611us/step - loss: 0.1796 - acc: 0.9374 - val_loss: 0.3659 - val_acc: 0.8949\n",
            "\n",
            "Epoch 00012: val_loss improved from 0.40049 to 0.36592, saving model to CNN_v4_val_loss.hdf5\n",
            "Epoch 13/20\n",
            " 8960/16861 [==============>...............] - ETA: 4s - loss: 0.1619 - acc: 0.9449"
          ],
          "name": "stdout"
        },
        {
          "output_type": "stream",
          "text": [
            "16861/16861 [==============================] - 10s 614us/step - loss: 0.1628 - acc: 0.9441 - val_loss: 0.3850 - val_acc: 0.8831\n",
            "\n",
            "Epoch 00013: val_loss did not improve\n",
            "Epoch 14/20\n",
            "16861/16861 [==============================] - 10s 617us/step - loss: 0.1509 - acc: 0.9482 - val_loss: 0.4375 - val_acc: 0.8858\n",
            "\n",
            "Epoch 00014: val_loss did not improve\n",
            "Epoch 15/20\n",
            " 9952/16861 [================>.............] - ETA: 4s - loss: 0.1407 - acc: 0.9522"
          ],
          "name": "stdout"
        },
        {
          "output_type": "stream",
          "text": [
            "16861/16861 [==============================] - 10s 619us/step - loss: 0.1483 - acc: 0.9502 - val_loss: 0.7604 - val_acc: 0.7930\n",
            "\n",
            "Epoch 00015: val_loss did not improve\n",
            "Epoch 16/20\n",
            "16861/16861 [==============================] - 10s 614us/step - loss: 0.1414 - acc: 0.9505 - val_loss: 0.2888 - val_acc: 0.9216\n",
            "\n",
            "Epoch 00016: val_loss improved from 0.36592 to 0.28875, saving model to CNN_v4_val_loss.hdf5\n",
            "Epoch 17/20\n",
            " 9056/16861 [===============>..............] - ETA: 4s - loss: 0.1283 - acc: 0.9561"
          ],
          "name": "stdout"
        },
        {
          "output_type": "stream",
          "text": [
            "16861/16861 [==============================] - 10s 617us/step - loss: 0.1279 - acc: 0.9559 - val_loss: 0.4618 - val_acc: 0.8703\n",
            "\n",
            "Epoch 00017: val_loss did not improve\n",
            "Epoch 18/20\n",
            "16861/16861 [==============================] - 10s 618us/step - loss: 0.1255 - acc: 0.9571 - val_loss: 0.2920 - val_acc: 0.9242\n",
            "\n",
            "Epoch 00018: val_loss did not improve\n",
            "Epoch 19/20\n",
            "10016/16861 [================>.............] - ETA: 4s - loss: 0.1170 - acc: 0.9604"
          ],
          "name": "stdout"
        },
        {
          "output_type": "stream",
          "text": [
            "16861/16861 [==============================] - 10s 616us/step - loss: 0.1279 - acc: 0.9576 - val_loss: 0.4663 - val_acc: 0.8741\n",
            "\n",
            "Epoch 00019: val_loss did not improve\n",
            "Epoch 20/20\n",
            "16861/16861 [==============================] - 10s 616us/step - loss: 0.1088 - acc: 0.9622 - val_loss: 0.3402 - val_acc: 0.9120\n",
            "\n",
            "Epoch 00020: val_loss did not improve\n"
          ],
          "name": "stdout"
        },
        {
          "output_type": "execute_result",
          "data": {
            "text/plain": [
              "<keras.callbacks.History at 0x7f1b37bb29d0>"
            ]
          },
          "metadata": {
            "tags": []
          },
          "execution_count": 12
        }
      ]
    },
    {
      "metadata": {
        "id": "COdjL_7zzq_U",
        "colab_type": "code",
        "colab": {
          "autoexec": {
            "startup": false,
            "wait_interval": 0
          }
        }
      },
      "cell_type": "code",
      "source": [
        "model = load_model(file_path)"
      ],
      "execution_count": 0,
      "outputs": []
    },
    {
      "metadata": {
        "id": "ZVznz_FS0Bwg",
        "colab_type": "code",
        "colab": {
          "autoexec": {
            "startup": false,
            "wait_interval": 0
          }
        }
      },
      "cell_type": "code",
      "source": [
        "predicted = model.predict(X)"
      ],
      "execution_count": 0,
      "outputs": []
    },
    {
      "metadata": {
        "id": "ZPF912IT0Dku",
        "colab_type": "code",
        "colab": {
          "autoexec": {
            "startup": false,
            "wait_interval": 0
          }
        }
      },
      "cell_type": "code",
      "source": [
        "from sklearn import metrics"
      ],
      "execution_count": 0,
      "outputs": []
    },
    {
      "metadata": {
        "id": "uUCDpZ6p0Fmm",
        "colab_type": "code",
        "colab": {
          "autoexec": {
            "startup": false,
            "wait_interval": 0
          },
          "output_extras": [
            {
              "item_id": 1
            }
          ],
          "base_uri": "https://localhost:8080/",
          "height": 34
        },
        "outputId": "154d9565-6186-4fc9-fa34-07401b164607",
        "executionInfo": {
          "status": "ok",
          "timestamp": 1520210997700,
          "user_tz": 300,
          "elapsed": 289,
          "user": {
            "displayName": "Manoj Joshi",
            "photoUrl": "https://lh3.googleusercontent.com/a/default-user=s128",
            "userId": "112099731100984326150"
          }
        }
      },
      "cell_type": "code",
      "source": [
        "metrics.log_loss(Y, predicted)"
      ],
      "execution_count": 16,
      "outputs": [
        {
          "output_type": "execute_result",
          "data": {
            "text/plain": [
              "0.06770054147197994"
            ]
          },
          "metadata": {
            "tags": []
          },
          "execution_count": 16
        }
      ]
    },
    {
      "metadata": {
        "id": "hEXl4nhQ0HDa",
        "colab_type": "code",
        "colab": {
          "autoexec": {
            "startup": false,
            "wait_interval": 0
          }
        }
      },
      "cell_type": "code",
      "source": [
        ""
      ],
      "execution_count": 0,
      "outputs": []
    }
  ]
}