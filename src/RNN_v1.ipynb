{
 "cells": [
  {
   "cell_type": "code",
   "execution_count": 28,
   "metadata": {},
   "outputs": [],
   "source": [
    "import numpy as np\n",
    "from keras.models import Sequential\n",
    "from keras.layers.core import Dense, Activation, Dropout\n",
    "from keras.layers.recurrent import LSTM\n",
    "from keras.layers.wrappers import TimeDistributed\n",
    "from keras.layers import Dense, Input\n",
    "from keras.layers import GlobalMaxPooling1D, Bidirectional\n",
    "from keras.models import Model, load_model\n",
    "from keras.callbacks import EarlyStopping, ModelCheckpoint\n",
    "import pickle"
   ]
  },
  {
   "cell_type": "code",
   "execution_count": 2,
   "metadata": {},
   "outputs": [
    {
     "name": "stdout",
     "output_type": "stream",
     "text": [
      "(1731, 20, 100)\n",
      "(1731, 2)\n",
      "(1713, 20, 100)\n",
      "(1713, 2)\n",
      "(3444, 20, 100)\n",
      "(3444, 2)\n"
     ]
    }
   ],
   "source": [
    "bird_audio_with_label = pickle.load( open( \"bird.txt\", \"rb\" ) )\n",
    "X_bird = bird_audio_with_label[\"bird\"]\n",
    "Y_bird = np.array([[1,0]] * X_bird.shape[0])\n",
    "print X_bird.shape\n",
    "print Y_bird.shape\n",
    "\n",
    "bed_audio_with_label = pickle.load( open( \"bed.txt\", \"rb\" ) )\n",
    "X_bed = bed_audio_with_label[\"bed\"]\n",
    "Y_bed = np.array([[0,1]] * X_bed.shape[0])\n",
    "print X_bed.shape\n",
    "print Y_bed.shape\n",
    "\n",
    "X = np.vstack((X_bird, X_bed))\n",
    "Y = np.vstack((Y_bird, Y_bed))\n",
    "print X.shape\n",
    "print Y.shape"
   ]
  },
  {
   "cell_type": "code",
   "execution_count": 3,
   "metadata": {},
   "outputs": [
    {
     "name": "stdout",
     "output_type": "stream",
     "text": [
      "(1, 2, 6)\n",
      "(1, 2)\n"
     ]
    }
   ],
   "source": [
    "X_ = np.array([[[1,2,3,4,5,6],[7,8,9,10,11,12]]])\n",
    "Y_ = np.array([[1,0]])\n",
    "#Y = np.array([[[1],[2]]])\n",
    "print X_.shape\n",
    "print Y_.shape"
   ]
  },
  {
   "cell_type": "code",
   "execution_count": 18,
   "metadata": {},
   "outputs": [
    {
     "name": "stdout",
     "output_type": "stream",
     "text": [
      "_________________________________________________________________\n",
      "Layer (type)                 Output Shape              Param #   \n",
      "=================================================================\n",
      "input_6 (InputLayer)         (None, 20, 100)           0         \n",
      "_________________________________________________________________\n",
      "lstm_11 (LSTM)               (None, 20, 100)           80400     \n",
      "_________________________________________________________________\n",
      "lstm_12 (LSTM)               (None, 20, 100)           80400     \n",
      "_________________________________________________________________\n",
      "lstm_13 (LSTM)               (None, 20, 100)           80400     \n",
      "_________________________________________________________________\n",
      "global_max_pooling1d_5 (Glob (None, 100)               0         \n",
      "_________________________________________________________________\n",
      "dropout_5 (Dropout)          (None, 100)               0         \n",
      "_________________________________________________________________\n",
      "dense_5 (Dense)              (None, 2)                 202       \n",
      "=================================================================\n",
      "Total params: 241,402\n",
      "Trainable params: 241,402\n",
      "Non-trainable params: 0\n",
      "_________________________________________________________________\n"
     ]
    }
   ],
   "source": [
    "inp = Input(shape=(20,100 ))\n",
    "x = (LSTM(100, return_sequences=True))(inp)\n",
    "x = (LSTM(100, return_sequences=True))(x)\n",
    "x = (LSTM(100, return_sequences=True))(x)\n",
    "x = GlobalMaxPooling1D()(x)\n",
    "x = Dropout(0.4)(x)\n",
    "\n",
    "#x = Dense(20, activation = \"sigmoid\")(x)\n",
    "#x = Dense(5, activation = \"sigmoid\")(x)\n",
    "\n",
    "x = Dense(2, activation=\"softmax\")(x)\n",
    "model = Model(inputs=inp, outputs=x)\n",
    "model.compile(loss='binary_crossentropy',\n",
    "              optimizer='adam',\n",
    "              metrics=['accuracy'])\n",
    "\n",
    "model.summary()"
   ]
  },
  {
   "cell_type": "code",
   "execution_count": 26,
   "metadata": {},
   "outputs": [
    {
     "name": "stdout",
     "output_type": "stream",
     "text": [
      "Train on 3099 samples, validate on 345 samples\n",
      "Epoch 1/10\n",
      "3072/3099 [============================>.] - ETA: 0s - loss: 0.1683 - acc: 0.9329Epoch 00000: val_loss improved from inf to 1.04882, saving model to RNN_best_val_loss.hdf5\n",
      "3099/3099 [==============================] - 10s - loss: 0.1702 - acc: 0.9316 - val_loss: 1.0488 - val_acc: 0.6551\n",
      "Epoch 2/10\n",
      "3072/3099 [============================>.] - ETA: 0s - loss: 0.1475 - acc: 0.9417Epoch 00001: val_loss improved from 1.04882 to 0.53950, saving model to RNN_best_val_loss.hdf5\n",
      "3099/3099 [==============================] - 10s - loss: 0.1471 - acc: 0.9419 - val_loss: 0.5395 - val_acc: 0.8058\n",
      "Epoch 3/10\n",
      "3072/3099 [============================>.] - ETA: 0s - loss: 0.1333 - acc: 0.9499Epoch 00002: val_loss improved from 0.53950 to 0.49898, saving model to RNN_best_val_loss.hdf5\n",
      "3099/3099 [==============================] - 10s - loss: 0.1334 - acc: 0.9497 - val_loss: 0.4990 - val_acc: 0.8290\n",
      "Epoch 4/10\n",
      "3072/3099 [============================>.] - ETA: 0s - loss: 0.1242 - acc: 0.9554Epoch 00003: val_loss did not improve\n",
      "3099/3099 [==============================] - 10s - loss: 0.1238 - acc: 0.9555 - val_loss: 0.7827 - val_acc: 0.7449\n",
      "Epoch 5/10\n",
      "3072/3099 [============================>.] - ETA: 0s - loss: 0.1385 - acc: 0.9456Epoch 00004: val_loss did not improve\n",
      "3099/3099 [==============================] - 10s - loss: 0.1389 - acc: 0.9451 - val_loss: 1.1052 - val_acc: 0.6754\n",
      "Epoch 6/10\n",
      "3072/3099 [============================>.] - ETA: 0s - loss: 0.1079 - acc: 0.9570Epoch 00005: val_loss did not improve\n",
      "3099/3099 [==============================] - 10s - loss: 0.1082 - acc: 0.9564 - val_loss: 0.7727 - val_acc: 0.7797\n",
      "Epoch 7/10\n",
      "3072/3099 [============================>.] - ETA: 0s - loss: 0.1007 - acc: 0.9661- ETA: 1s - loss: 0.0987 Epoch 00006: val_loss did not improve\n",
      "3099/3099 [==============================] - 10s - loss: 0.1002 - acc: 0.9664 - val_loss: 0.8098 - val_acc: 0.7362\n",
      "Epoch 8/10\n",
      "3072/3099 [============================>.] - ETA: 0s - loss: 0.0909 - acc: 0.9652Epoch 00007: val_loss did not improve\n",
      "3099/3099 [==============================] - 10s - loss: 0.0913 - acc: 0.9648 - val_loss: 0.8477 - val_acc: 0.7826\n",
      "Epoch 9/10\n",
      "3072/3099 [============================>.] - ETA: 0s - loss: 0.0921 - acc: 0.9655Epoch 00008: val_loss did not improve\n",
      "3099/3099 [==============================] - 10s - loss: 0.0918 - acc: 0.9655 - val_loss: 0.5922 - val_acc: 0.8145\n",
      "Epoch 10/10\n",
      "3072/3099 [============================>.] - ETA: 0s - loss: 0.0739 - acc: 0.9743Epoch 00009: val_loss did not improve\n",
      "3099/3099 [==============================] - 10s - loss: 0.0744 - acc: 0.9742 - val_loss: 0.5895 - val_acc: 0.8464\n"
     ]
    },
    {
     "data": {
      "text/plain": [
       "<keras.callbacks.History at 0x7fe8f2dee990>"
      ]
     },
     "execution_count": 26,
     "metadata": {},
     "output_type": "execute_result"
    }
   ],
   "source": [
    "file_path=\"RNN_best_val_loss.hdf5\"\n",
    "checkpoint = ModelCheckpoint(file_path, monitor='val_loss', verbose=1, save_best_only=True, mode='min')\n",
    "early = EarlyStopping(monitor=\"val_loss\", mode=\"min\", patience=20)\n",
    "callbacks_list = [checkpoint, early] #early\n",
    "model.fit(X, Y, validation_split=0.1, callbacks=callbacks_list, epochs=10)"
   ]
  },
  {
   "cell_type": "code",
   "execution_count": 30,
   "metadata": {},
   "outputs": [],
   "source": [
    "model = load_model(file_path)"
   ]
  },
  {
   "cell_type": "code",
   "execution_count": 35,
   "metadata": {
    "collapsed": true
   },
   "outputs": [],
   "source": [
    "a= model.predict(X[2:3])"
   ]
  },
  {
   "cell_type": "code",
   "execution_count": 36,
   "metadata": {},
   "outputs": [
    {
     "data": {
      "text/plain": [
       "array([[ 0.99343562,  0.00656441]], dtype=float32)"
      ]
     },
     "execution_count": 36,
     "metadata": {},
     "output_type": "execute_result"
    }
   ],
   "source": [
    "a"
   ]
  },
  {
   "cell_type": "code",
   "execution_count": 50,
   "metadata": {},
   "outputs": [
    {
     "data": {
      "text/plain": [
       "(1, 20, 100)"
      ]
     },
     "execution_count": 50,
     "metadata": {},
     "output_type": "execute_result"
    }
   ],
   "source": [
    "X[3443:3444].shape"
   ]
  },
  {
   "cell_type": "code",
   "execution_count": null,
   "metadata": {
    "collapsed": true
   },
   "outputs": [],
   "source": []
  }
 ],
 "metadata": {
  "kernelspec": {
   "display_name": "Python 2",
   "language": "python",
   "name": "python2"
  },
  "language_info": {
   "codemirror_mode": {
    "name": "ipython",
    "version": 2
   },
   "file_extension": ".py",
   "mimetype": "text/x-python",
   "name": "python",
   "nbconvert_exporter": "python",
   "pygments_lexer": "ipython2",
   "version": "2.7.13"
  }
 },
 "nbformat": 4,
 "nbformat_minor": 2
}
